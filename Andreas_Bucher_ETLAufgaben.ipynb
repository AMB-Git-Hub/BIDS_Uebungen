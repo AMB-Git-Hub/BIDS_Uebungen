{
  "nbformat": 4,
  "nbformat_minor": 0,
  "metadata": {
    "colab": {
      "name": "Andreas Bucher - ETLAufgaben.ipynb",
      "provenance": [],
      "collapsed_sections": [],
      "include_colab_link": true
    },
    "kernelspec": {
      "name": "python3",
      "display_name": "Python 3"
    }
  },
  "cells": [
    {
      "cell_type": "markdown",
      "metadata": {
        "id": "view-in-github",
        "colab_type": "text"
      },
      "source": [
        "<a href=\"https://colab.research.google.com/github/AMB-Git-Hub/BIDS_Uebungen/blob/main/Andreas_Bucher_ETLAufgaben.ipynb\" target=\"_parent\"><img src=\"https://colab.research.google.com/assets/colab-badge.svg\" alt=\"Open In Colab\"/></a>"
      ]
    },
    {
      "cell_type": "code",
      "metadata": {
        "id": "V85fs39-T7X1"
      },
      "source": [
        "# import libraries\n",
        "import sqlite3\n",
        "from sqlite3 import Error"
      ],
      "execution_count": 5,
      "outputs": []
    },
    {
      "cell_type": "code",
      "metadata": {
        "colab": {
          "base_uri": "https://localhost:8080/"
        },
        "id": "y8GrfavcsPVs",
        "outputId": "6f6dc95a-dbbc-41cc-c04e-e53a12e82f93"
      },
      "source": [
        "# mount drive to access data\n",
        "from google.colab import drive\n",
        "drive.mount(\"/content/drive\")"
      ],
      "execution_count": 6,
      "outputs": [
        {
          "output_type": "stream",
          "text": [
            "Drive already mounted at /content/drive; to attempt to forcibly remount, call drive.mount(\"/content/drive\", force_remount=True).\n"
          ],
          "name": "stdout"
        }
      ]
    },
    {
      "cell_type": "code",
      "metadata": {
        "id": "-eeM3RY7sgnB",
        "colab": {
          "base_uri": "https://localhost:8080/"
        },
        "outputId": "451497c9-1286-4aec-acb2-10883e6eb110"
      },
      "source": [
        "material_path = \"/content/drive/MyDrive/allergy/\"\r\n",
        "!ls {material_path} #Liste aller CSV Dateien\r\n",
        "src_db = f\"/content/drive/MyDrive/source_allergy_test.db\"\r\n",
        "!ls {src_db} #Liste aller CSV Dateien"
      ],
      "execution_count": 7,
      "outputs": [
        {
          "output_type": "stream",
          "text": [
            " allergy_test.db\t encounters.gsheet\t    patients.csv\n",
            "'careplans (1).gsheet'\t imaging_studies.csv\t    payers.csv\n",
            " careplans.csv\t\t imaging_studies.gsheet     payer_transitions.csv\n",
            " careplans.gsheet\t immunizations.csv\t    procedures.csv\n",
            " conditions.csv\t\t medications.csv\t    procedures.gsheet\n",
            " devices.csv\t\t'observations (1).gsheet'   providers.csv\n",
            " disease.csv\t\t observations.csv\t    source_allergy_test.db\n",
            " disease.gsheet\t\t observations.gsheet\t    supplies.csv\n",
            " encounters.csv\t\t organizations.csv\n",
            "/content/drive/MyDrive/source_allergy_test.db\n"
          ],
          "name": "stdout"
        }
      ]
    },
    {
      "cell_type": "markdown",
      "metadata": {
        "id": "FwjfjLH15-l6"
      },
      "source": [
        "# Python SQLite Guide\n"
      ]
    },
    {
      "cell_type": "code",
      "metadata": {
        "id": "kqCkOE5R57if"
      },
      "source": [
        "# SQLite connection\n",
        "def create_connection_memory():\n",
        "    \"\"\" create a database connection to a database that resides\n",
        "        in the memory\n",
        "    \"\"\"\n",
        "    conn = None;\n",
        "    try:\n",
        "        conn = sqlite3.connect(':memory:')\n",
        "        return conn\n",
        "        print(sqlite3.version)\n",
        "    except Error as e:\n",
        "        print(\"Error while connecting to sqlite\", e)\n",
        "    # finally:\n",
        "    #     if conn:\n",
        "    #         conn.close()"
      ],
      "execution_count": 9,
      "outputs": []
    },
    {
      "cell_type": "code",
      "metadata": {
        "colab": {
          "base_uri": "https://localhost:8080/"
        },
        "id": "tT6PSWQs7SpX",
        "outputId": "1cefa7c8-fb4d-415a-b35d-c20cc814dab4"
      },
      "source": [
        "# create a temporary empty database in the memory.\n",
        "conn = create_connection_memory()\n",
        "cur = conn.cursor()\n",
        "print(\"Successfully Connected to SQLite\")\n"
      ],
      "execution_count": 10,
      "outputs": [
        {
          "output_type": "stream",
          "text": [
            "Successfully Connected to SQLite\n"
          ],
          "name": "stdout"
        }
      ]
    },
    {
      "cell_type": "code",
      "metadata": {
        "colab": {
          "base_uri": "https://localhost:8080/"
        },
        "id": "XRM_0DF066tt",
        "outputId": "cdf48b35-24ac-435b-f6f3-effeaf487770"
      },
      "source": [
        "# Create SQLite table\n",
        "create_table_query = '''CREATE TABLE SqliteDb_developers (\n",
        "                                id INTEGER PRIMARY KEY,\n",
        "                                name TEXT NOT NULL,\n",
        "                                email text NOT NULL UNIQUE,\n",
        "                                joining_date datetime,\n",
        "                                salary REAL NOT NULL);'''\n",
        "\n",
        "cur.execute(create_table_query)\n",
        "conn.commit()\n",
        "print(\"SQLite table created\")"
      ],
      "execution_count": null,
      "outputs": [
        {
          "output_type": "stream",
          "text": [
            "SQLite table created\n"
          ],
          "name": "stdout"
        }
      ]
    },
    {
      "cell_type": "code",
      "metadata": {
        "colab": {
          "base_uri": "https://localhost:8080/"
        },
        "id": "n8MOSIKkA3Ql",
        "outputId": "2b61fc5e-9adc-44d9-fa86-de53c7f4ddb7"
      },
      "source": [
        "# list of tables\n",
        "cur.execute(\"SELECT name FROM sqlite_master WHERE type='table';\")\n",
        "print(cur.fetchall())"
      ],
      "execution_count": null,
      "outputs": [
        {
          "output_type": "stream",
          "text": [
            "[('SqliteDb_developers',)]\n"
          ],
          "name": "stdout"
        }
      ]
    },
    {
      "cell_type": "code",
      "metadata": {
        "colab": {
          "base_uri": "https://localhost:8080/"
        },
        "id": "Z8GwwiDHB-wb",
        "outputId": "0db1e549-aa20-47bf-dd1c-3c8ed8cab140"
      },
      "source": [
        "# insert into table\n",
        "cur.execute(\"INSERT INTO SqliteDb_developers (id,  name, email, salary) VALUES (1, 'name1', 'name1@gmail.com', 1000)\")\n"
      ],
      "execution_count": null,
      "outputs": [
        {
          "output_type": "execute_result",
          "data": {
            "text/plain": [
              "<sqlite3.Cursor at 0x7f9100d702d0>"
            ]
          },
          "metadata": {
            "tags": []
          },
          "execution_count": 9
        }
      ]
    },
    {
      "cell_type": "code",
      "metadata": {
        "id": "LKSPQkLCH-aR"
      },
      "source": [
        "# insert into table-Larger example\n",
        "rows = [(2, 'name2', 'name2@gmail.com', '2006-02-28', 2000),\n",
        "        (3, 'name3', 'name3@gmail.com', '2006-03-05', 3000),\n",
        "        (4, 'name4', 'name4@gmail.com', '2006-04-06', 4000)]\n",
        "cur.executemany('insert into SqliteDb_developers values (?,?,?,?,?)', rows)\n",
        "conn.commit()\n"
      ],
      "execution_count": null,
      "outputs": []
    },
    {
      "cell_type": "code",
      "metadata": {
        "colab": {
          "base_uri": "https://localhost:8080/"
        },
        "id": "MKYBuJewMLBO",
        "outputId": "d5414927-d542-4edd-b3ea-74096ff1f606"
      },
      "source": [
        "select_query = \"SELECT * FROM SqliteDb_developers\"\n",
        "cur.execute(select_query)\n",
        "records = cur.fetchall()\n",
        "print(\"Total rows in table: \", len(records))\n",
        "for row in records:\n",
        "  print(row)"
      ],
      "execution_count": null,
      "outputs": [
        {
          "output_type": "stream",
          "text": [
            "Total rows in table:  4\n",
            "(1, 'name1', 'name1@gmail.com', None, 1000.0)\n",
            "(2, 'name2', 'name2@gmail.com', '2006-02-28', 2000.0)\n",
            "(3, 'name3', 'name3@gmail.com', '2006-03-05', 3000.0)\n",
            "(4, 'name4', 'name4@gmail.com', '2006-04-06', 4000.0)\n"
          ],
          "name": "stdout"
        }
      ]
    },
    {
      "cell_type": "code",
      "metadata": {
        "colab": {
          "base_uri": "https://localhost:8080/"
        },
        "id": "TQJOSd70_7EP",
        "outputId": "d8103999-bc8d-487c-bae2-b1ac5aa21c04"
      },
      "source": [
        "# select with parameters\n",
        "select_query = \"\"\"select * from SqliteDb_developers where id = ?\"\"\"\n",
        "cur.execute(select_query, (1,))\n",
        "records = cur.fetchall()\n",
        "print(\"Printing ID \", id)\n",
        "for row in records:\n",
        "    print(\"Name = \", row[1])\n",
        "    print(\"Email  = \", row[2])\n",
        "    print(\"JoiningDate  = \", row[3])\n",
        "    print(\"Salary  = \", row[4])"
      ],
      "execution_count": null,
      "outputs": [
        {
          "output_type": "stream",
          "text": [
            "Printing ID  <built-in function id>\n",
            "Name =  name1\n",
            "Email  =  name1@gmail.com\n",
            "JoiningDate  =  None\n",
            "Salary  =  1000.0\n"
          ],
          "name": "stdout"
        }
      ]
    },
    {
      "cell_type": "code",
      "metadata": {
        "colab": {
          "base_uri": "https://localhost:8080/"
        },
        "id": "AI0bFlKytsm8",
        "outputId": "74db1799-2ac5-45a5-e05d-74e8f8d0cf07"
      },
      "source": [
        "# update table\n",
        "cur.execute(\"UPDATE SqliteDb_developers SET Email=? WHERE id =?\", ('Uname2@gmail.com', 2))\n",
        "print(\"Number of rows updated: {}\".format(cur.rowcount))"
      ],
      "execution_count": null,
      "outputs": [
        {
          "output_type": "stream",
          "text": [
            "Number of rows updated: 1\n"
          ],
          "name": "stdout"
        }
      ]
    },
    {
      "cell_type": "code",
      "metadata": {
        "colab": {
          "base_uri": "https://localhost:8080/"
        },
        "id": "I3_Sk34xMaB0",
        "outputId": "5dd33ee8-7611-45b8-a1bd-f08311febb70"
      },
      "source": [
        "# access to metadata (tables and columns) using PRAGMA\n",
        "cur.execute(\"PRAGMA table_info(SqliteDb_developers);\")\n",
        "data = cur.fetchall()\n",
        "# print(data)\n",
        "for d in data:\n",
        "  print(d[0], d[1], d[2])"
      ],
      "execution_count": null,
      "outputs": [
        {
          "output_type": "stream",
          "text": [
            "0 id INTEGER\n",
            "1 name TEXT\n",
            "2 email text\n",
            "3 joining_date datetime\n",
            "4 salary REAL\n"
          ],
          "name": "stdout"
        }
      ]
    },
    {
      "cell_type": "code",
      "metadata": {
        "colab": {
          "base_uri": "https://localhost:8080/"
        },
        "id": "OaMTTGZsxCCD",
        "outputId": "fdca5fa8-f101-435f-b07e-f378a8a1426a"
      },
      "source": [
        "# Excute whole SQL code in one step\n",
        "cur.executescript(\"\"\"\n",
        "        DROP TABLE IF EXISTS patient_table;\n",
        "        CREATE TABLE patient_table(patient_id INT, name TEXT, diagnose Text, birthdate datetime);\n",
        "        INSERT INTO patient_table VALUES(10, 'name1', 'Asthma', '2006-02-28');\n",
        "        INSERT INTO patient_table VALUES(20, 'name1', 'Asthma', '2007-02-28');\n",
        "        INSERT INTO patient_table VALUES(30, 'name1', 'Asthma', '2008-02-28');\n",
        "        INSERT INTO patient_table VALUES(40, 'name1', 'Asthma', '2009-02-28');\n",
        "        DELETE FROM patient_table WHERE patient_id > 30;\n",
        "     \"\"\")\n",
        "conn.commit()\n",
        "# cur.execute(\"DELETE FROM SqliteDb_developers WHERE id < 3\")\n",
        "cur.execute(\"SELECT COUNT(patient_id) FROM patient_table\")\n",
        "cur.fetchone()\n"
      ],
      "execution_count": null,
      "outputs": [
        {
          "output_type": "execute_result",
          "data": {
            "text/plain": [
              "(3,)"
            ]
          },
          "metadata": {
            "tags": []
          },
          "execution_count": 15
        }
      ]
    },
    {
      "cell_type": "markdown",
      "metadata": {
        "id": "DsdHSo7H-G3m"
      },
      "source": [
        "There are more information in:\n",
        "\n",
        "http://zetcode.com/db/sqlitepythontutorial/\n",
        "\n",
        "https://pynative.com/python-sqlite/\n",
        "\n",
        "https://stackoverflow.com/questions/228912/sqlite-parameter-substitution-problem"
      ]
    },
    {
      "cell_type": "markdown",
      "metadata": {
        "id": "tO9FoACx4TWj"
      },
      "source": [
        "# Exercises"
      ]
    },
    {
      "cell_type": "markdown",
      "metadata": {
        "id": "BbScvuLxO2kX"
      },
      "source": [
        ""
      ]
    },
    {
      "cell_type": "markdown",
      "metadata": {
        "id": "eALn5eHirGda"
      },
      "source": [
        "### Connect to the database and see how many tables it contains\n",
        "\n",
        "\n"
      ]
    },
    {
      "cell_type": "code",
      "metadata": {
        "id": "ZvwtPAvE05hi"
      },
      "source": [
        "# Connect to source database\n",
        "def create_connection(db_file):\n",
        "  \"\"\" create a database connection to SQLite database\"\"\"\n",
        "  conn = None\n",
        "  try:\n",
        "    conn = sqlite3.connect(db_file)\n",
        "    return conn\n",
        "  except Error as error:\n",
        "    print(\"Error while connecting to sqlite\", error)\n",
        "  # finally:\n",
        "  #   if conn:\n",
        "  #     conn.close()"
      ],
      "execution_count": 8,
      "outputs": []
    },
    {
      "cell_type": "code",
      "metadata": {
        "colab": {
          "base_uri": "https://localhost:8080/"
        },
        "id": "zmw406e42yw5",
        "outputId": "3046e324-26d5-402b-a742-f11c9f7681ed"
      },
      "source": [
        "src_db = f\"/content/drive/MyDrive/source_allergy_test.db\"\n",
        "src_conn = create_connection(src_db)\n",
        "src_cur = src_conn.cursor()\n",
        "print(\"Database connection is successfully\")"
      ],
      "execution_count": 9,
      "outputs": [
        {
          "output_type": "stream",
          "text": [
            "Database connection is successfully\n"
          ],
          "name": "stdout"
        }
      ]
    },
    {
      "cell_type": "markdown",
      "metadata": {
        "id": "5vK9_AKSrHhT"
      },
      "source": [
        "### Query the tables, join two tables\n",
        "\n"
      ]
    },
    {
      "cell_type": "code",
      "metadata": {
        "id": "960zuL4eMpwo",
        "colab": {
          "base_uri": "https://localhost:8080/"
        },
        "outputId": "50f93580-e406-4f53-abe5-6f33b2e42d4c"
      },
      "source": [
        "\r\n",
        "src_cur.execute(\"SELECT name FROM sqlite_master WHERE type='table'\")\r\n",
        "print(src_cur.fetchall()) #die Namen aller Tabellen in der Datenmbank"
      ],
      "execution_count": 10,
      "outputs": [
        {
          "output_type": "stream",
          "text": [
            "[('disease',), ('patients',), ('encounters',), ('careplans',), ('conditions',), ('medications',), ('procedures',), ('observations',), ('devices',), ('imaging_studies',), ('immunizations',)]\n"
          ],
          "name": "stdout"
        }
      ]
    },
    {
      "cell_type": "code",
      "metadata": {
        "colab": {
          "base_uri": "https://localhost:8080/"
        },
        "id": "boj0Et_9QGXT",
        "outputId": "b97be02b-7424-40c3-cd5e-aef6a4799544"
      },
      "source": [
        "src_cur.execute(\"SELECt * FROM patients\")\r\n",
        "records = src_cur.fetchall()\r\n",
        "for row in records:\r\n",
        "  print(row)"
      ],
      "execution_count": 11,
      "outputs": [
        {
          "output_type": "stream",
          "text": [
            "('27b0d72c-f2fb-7e25-38c0-7d5120ebbedf', '1945-04-17', '', '999-93-9618', 'S99971149', 'X1878420X', 'Mrs.', 'Emmie273', 'Schoen8', '', 'Heidenreich818', 'M', 'white', 'nonhispanic', 'F', 'Lexington  Massachusetts  US', '1056 Hegmann Mall', 'Kingston', 'Massachusetts', 'Plymouth County', 2364, 41.99610576466808, -70.78620468702952, 63141.11, 3176.7799999999997)\n",
            "('17f0c6d9-8931-8839-66cb-3ca6fb066d3e', '1959-05-31', '', '999-17-6461', 'S99999085', 'X20851735X', 'Mr.', 'Karl184', 'Stroman228', '', '', 'M', 'white', 'nonhispanic', 'M', 'Sturbridge  Massachusetts  US', '1080 Boyer Brook Suite 22', 'Sutton', 'Massachusetts', 'Worcester County', '', 42.12612989310728, -71.7498484885064, 1333971.83, 4339.049999999999)\n",
            "('aff157cc-b6d3-412b-ccbe-bfd5fac1c2d5', '1991-11-27', '', '999-29-1688', 'S99979872', 'X48771954X', 'Mr.', 'Monty345', 'Krajcik437', '', '', 'M', 'white', 'nonhispanic', 'M', 'Watertown  Massachusetts  US', '657 Fay Road Suite 26', 'Haverhill', 'Massachusetts', 'Essex County', 1830, 42.76323651816181, -71.11770429170777, 735728.62, 4015.3999999999996)\n",
            "('e92765c7-1c4b-9ee7-dbc8-5300fcb40a54', '2001-11-18', '', '999-30-3448', 'S99973612', '', 'Mr.', 'Hugo693', 'Valencia279', '', '', '', 'black', 'hispanic', 'M', 'Caracas  Capital District  VE', '762 Cormier Forge Apt 2', 'Boston', 'Massachusetts', 'Suffolk County', 2108, 42.39108330298497, -71.04118216051297, 58484.07, 2829.75)\n",
            "('3575b903-dbd0-1d55-6146-9e8aa4ed52a5', '1941-12-22', '', '999-73-1683', 'S99984672', 'X13615296X', 'Mrs.', 'Hayley136', 'Schamberger479', '', 'Vandervort697', 'M', 'white', 'nonhispanic', 'F', 'Everett  Massachusetts  US', '217 Nitzsche Green Apt 80', 'Easthampton', 'Massachusetts', 'Hampshire County', 1027, 42.28232301628463, -72.65678344319232, 1546947.37, 9558.05)\n",
            "('9bbbcada-7a45-92f0-6ae6-d197bcefc0d4', '1951-12-14', '', '999-19-9566', 'S99994195', 'X5151952X', 'Mr.', 'Jamison785', 'Marvin195', '', '', 'M', 'white', 'nonhispanic', 'M', 'Boston  Massachusetts  US', '580 Reichert Viaduct', 'Methuen', 'Massachusetts', 'Essex County', 1844, 42.73404471540759, -71.15670782359575, 1424882.97, 8444.67)\n",
            "('28124841-1cf3-2818-d4ee-8574fac23298', '1973-11-29', '', '999-19-4122', 'S99979439', 'X71014102X', 'Mr.', 'Adalberto916', 'Leffler128', '', '', 'M', 'white', 'nonhispanic', 'M', 'Cambridge  Massachusetts  US', '476 Kunde Trafficway', 'Charlton', 'Massachusetts', 'Worcester County', '', 42.15445818576396, -71.98244116176556, 965145.65, 4051.2799999999997)\n",
            "('bdf7af8e-c765-1e02-dc9d-24b49ad290a3', '1987-10-30', '', '999-46-3731', 'S99939980', 'X32802305X', 'Mr.', 'Rich940', 'Jakubowski832', '', '', 'M', 'white', 'nonhispanic', 'M', 'Marlborough  Massachusetts  US', '103 McCullough Estate Unit 6', 'Fall River', 'Massachusetts', 'Bristol County', '', 41.55295339213492, -71.12160123955184, 7044.3099999999995, 0)\n",
            "('03127a78-1c85-5b31-d4d5-14e941262148', '2017-10-27', '', '999-74-2302', '', '', '', 'Annamae625', 'Lindgren255', '', '', '', 'white', 'nonhispanic', 'F', 'Peabody  Massachusetts  US', '727 Blick Route', 'Williamsburg', 'Massachusetts', 'Hampshire County', '', 42.43773136996866, -72.72494068904952, 25142.239999999998, 645.8)\n",
            "('b202a7c5-b5b7-cf47-d5a6-d41e468d06c7', '1998-12-31', '', '999-72-7790', 'S99990909', 'X80843702X', 'Ms.', 'Lilliam592', 'Hickle134', '', '', '', 'black', 'nonhispanic', 'F', 'Cambridge  Massachusetts  US', '764 Mohr Bridge', 'Waltham', 'Massachusetts', 'Middlesex County', 2472, 42.34624978743746, -71.21796769228828, 68606.64, 3923.1599999999994)\n",
            "('c7660878-881a-ce61-1915-9bafed46d44e', '2020-01-15', '', '999-25-2232', '', '', '', 'Tanner110', 'Feeney44', '', '', '', 'white', 'nonhispanic', 'M', 'Chester  Massachusetts  US', '650 McCullough Parade', 'Quincy', 'Massachusetts', 'Norfolk County', 2171, 42.26313610898867, -71.00067700647297, 22065, 658.29)\n",
            "('185cb1a5-97bc-2d60-3ee1-fae44b48d585', '1975-11-13', '', '999-58-8679', 'S99992269', 'X30976071X', 'Mrs.', 'Cary869', 'Orn563', '', 'Lind531', 'M', 'white', 'nonhispanic', 'F', 'Fall River  Massachusetts  US', '869 Reichel Track Suite 74', 'Sturbridge', 'Massachusetts', 'Worcester County', 1507, 42.0979561577297, -72.09218966196636, 267876.72, 3413.2599999999998)\n",
            "('cebf1170-4239-424b-e9e6-7ff000595af3', '1980-07-13', '', '999-47-2580', 'S99950541', 'X50139345X', 'Mrs.', 'Leeanna836', 'Hagenes547', '', 'Cormier289', 'M', 'black', 'nonhispanic', 'F', 'Boston  Massachusetts  US', '718 Hammes Glen', 'Brockton', 'Massachusetts', 'Plymouth County', 2302, 42.13095349802204, -70.97572634672657, 892287.81, 6094.309999999999)\n",
            "('81bbbf6e-8c14-a217-9045-85d5f9fc689f', '1985-10-20', '', '999-69-9964', 'S99931332', 'X65301057X', 'Mrs.', 'Charis952', 'Koss676', '', 'Schimmel440', 'M', 'white', 'nonhispanic', 'F', 'Boston  Massachusetts  US', '938 Langosh Gateway Suite 58', 'Chelsea', 'Massachusetts', 'Suffolk County', 2149, 42.429794491532775, -71.07377204682754, 842738.8300000001, 6537.489999999999)\n",
            "('d6d70096-ab54-ad6d-ec5a-0a5d2639556a', '1979-06-06', '', '999-22-5151', 'S99953421', 'X24299596X', 'Ms.', 'Georgia502', 'Ruecker817', '', '', 'S', 'asian', 'nonhispanic', 'F', \"Macau  Macao Special Administrative Region of the People's Republic of China  CN\", '757 Heller Ramp', 'Lowell', 'Massachusetts', 'Middlesex County', 1851, 42.59627873671827, -71.34130998823915, 894801.23, 10225.969999999998)\n",
            "('6f0b3fb1-4c51-2002-0ab7-e4247002b4aa', '2015-03-05', '', '999-92-8370', '', '', '', 'Homer307', 'Prosacco716', '', '', '', 'white', 'nonhispanic', 'M', 'Worcester  Massachusetts  US', '139 Oberbrunner Lodge', 'Needham', 'Massachusetts', 'Norfolk County', 2494, 42.253620498920526, -71.19220706329561, 144960, 1825.73)\n",
            "('232a81eb-4bcd-6b41-ae17-698d33a9b0f6', '1945-11-25', '', '999-26-4759', 'S99911836', 'X1766669X', 'Mr.', 'Nick779', 'Sipes176', '', '', 'M', 'white', 'nonhispanic', 'M', 'Millville  Massachusetts  US', '1032 Wiza Underpass Suite 79', 'Rehoboth', 'Massachusetts', 'Bristol County', '', 41.8389221765935, -71.19947293974454, 1364329, 5636.04)\n",
            "('7a12d026-85c5-6543-0667-c04bb787dd22', '1951-11-07', '', '999-23-3619', 'S99920234', 'X82736809X', 'Mr.', 'Gabriel934', 'Bruen238', '', '', 'M', 'white', 'nonhispanic', 'M', 'Douglas  Massachusetts  US', '525 Ankunding Park', 'Dartmouth', 'Massachusetts', 'Bristol County', '', 41.554424812147474, -71.00293105887876, 225055.41, 6150)\n",
            "('2afa0f38-c46e-7260-09f6-2f8261fd18c9', '1994-03-15', '', '999-22-2189', 'S99974340', 'X11493154X', 'Mr.', 'Mac103', 'Volkman526', '', '', '', 'white', 'nonhispanic', 'M', 'Boston  Massachusetts  US', '604 Daugherty Terrace', 'Clinton', 'Massachusetts', 'Worcester County', 1510, 42.43447553426932, -71.64038235872162, 644176.09, 2854.71)\n",
            "('64a3ec03-d887-b745-cd43-ffb5f51de625', '2020-10-12', '', '999-31-4265', '', '', '', 'Lee268', 'Rath779', '', '', '', 'white', 'nonhispanic', 'M', 'Andover  Massachusetts  US', '762 Bradtke Path Suite 22', 'Stoughton', 'Massachusetts', 'Norfolk County', '', 42.11459921970478, -71.13752682272005, 3600, 129.16)\n",
            "('6d0e20e0-ac68-77ef-9a55-3031c09306c4', '1999-10-27', '', '999-88-8978', 'S99942601', 'X63302587X', 'Mr.', 'Sal878', 'Macejkovic424', '', '', '', 'white', 'nonhispanic', 'M', 'Norton  Massachusetts  US', '138 Beahan Mews', 'North Andover', 'Massachusetts', 'Essex County', '', 42.65379554464302, -71.12977579633731, 68271.41, 27741.27)\n",
            "('b76f2fc1-a2f0-0787-c5f8-3b0af800151b', '1989-03-04', '', '999-12-6743', 'S99958559', 'X7341928X', 'Ms.', 'Karen597', 'Koss676', '', '', 'S', 'white', 'nonhispanic', 'F', 'Mansfield  Massachusetts  US', '1025 Wolff Rapid Unit 71', 'Lawrence', 'Massachusetts', 'Essex County', 1840, 42.67959876722981, -71.16197303478366, 101317.97, 7181.7)\n",
            "('6cf1912d-22da-29d6-4469-8d85ac6ba09d', '1966-01-17', '', '999-37-3195', 'S99950768', 'X38263975X', 'Mrs.', 'Misti388', 'Greenfelder433', '', 'Kuhic920', 'M', 'white', 'nonhispanic', 'F', 'Northampton  Massachusetts  US', '968 Mayer Mission Apt 37', 'North Andover', 'Massachusetts', 'Essex County', '', 42.723063989553566, -71.07747831698705, 1271608.68, 4673.49)\n",
            "('e40dfba7-e1e1-84f7-ebc1-2c8854e1e14b', '1999-11-23', '', '999-94-2922', 'S99996735', 'X50178798X', 'Ms.', 'Myrtie622', 'Borer986', '', '', '', 'black', 'nonhispanic', 'F', 'Watertown  Massachusetts  US', '883 Schuster Flat Suite 70', 'Worcester', 'Massachusetts', 'Worcester County', 1606, 42.22225378472528, -71.79400106125182, 508868.49, 3062.2)\n",
            "('579b5db3-b0a2-fb6f-c584-3ab5310ba479', '1966-09-16', '', '999-32-8364', 'S99969644', 'X87558936X', 'Mr.', 'Colton403', 'Frami345', '', '', 'S', 'white', 'nonhispanic', 'M', 'Marshfield  Massachusetts  US', '775 Altenwerth Junction Suite 85', 'Middleborough', 'Massachusetts', 'Plymouth County', '', 41.89879451197094, -70.87282282093616, 38148.19, 245.79999999999998)\n",
            "('199405ce-98f7-41fe-1636-5cf934b96229', '1969-04-14', '', '999-78-6544', 'S99923680', 'X89402906X', 'Ms.', 'Brandon214', 'Kohler843', '', '', 'S', 'white', 'nonhispanic', 'F', 'Bridgewater  Massachusetts  US', '716 Rohan Lane Suite 68', 'Middleton', 'Massachusetts', 'Essex County', '', 42.58948118561335, -71.04084836034285, 1069466.26, 13034.769999999999)\n",
            "('6192553b-4ac8-f17b-3a59-9155e759f916', '2004-02-19', '', '999-15-5840', 'S99935484', '', '', 'Shyla233', 'Kovacek682', '', '', '', 'white', 'nonhispanic', 'F', 'Boston  Massachusetts  US', '928 Beier Camp Suite 53', 'Danvers', 'Massachusetts', 'Essex County', 1923, 42.59715258465504, -70.99942405645696, 344634.3, 2687.32)\n",
            "('8e17e1c2-74c3-2d9e-ee65-7ca73ec7a4c0', '1926-11-20', '2001-12-26', '999-99-1020', 'S99928583', 'X60321235X', 'Mr.', 'Luis923', 'Rodarte647', '', '', 'M', 'black', 'hispanic', 'M', 'Carolina  Puerto Rico  PR', '765 Kuhn Flat', 'Westfield', 'Massachusetts', 'Hampden County', 1085, 42.08708356692535, -72.76893397678135, 94677.52999999998, 328585.36000000004)\n",
            "('7092af02-2583-ddbc-a483-e4a795c4c4ff', '2005-09-26', '', '999-68-2346', '', '', '', 'Dominica520', 'Yost751', '', '', '', 'white', 'nonhispanic', 'F', 'Dracut  Massachusetts  US', '760 Welch Harbor', 'Tewksbury', 'Massachusetts', 'Middlesex County', '', 42.65358633504711, -71.24031195125063, 364948.19, 3237.2599999999998)\n",
            "('0e57d2dc-97dd-a77b-d9bf-c12082b6024c', '2006-09-16', '', '999-40-4210', '', '', '', 'Shamika26', 'Olson653', '', '', '', 'white', 'nonhispanic', 'F', 'Stoughton  Massachusetts  US', '602 Stark Manor Apt 3', 'Great Barrington', 'Massachusetts', 'Berkshire County', 1230, 42.23013329868305, -73.33985914069092, 325531.46, 3067.29)\n",
            "('46d4e1c1-69fd-bd47-974f-5adddc632851', '1977-03-03', '', '999-93-9626', 'S99998218', 'X25180528X', 'Ms.', 'Mollie266', 'Blick895', '', '', 'S', 'white', 'nonhispanic', 'F', 'Marblehead  Massachusetts  US', '1049 Gerhold Ville Unit 83', 'Westborough', 'Massachusetts', 'Worcester County', 1581, 42.2343750099027, -71.64478065800165, 922688.51, 8852.259999999998)\n",
            "('76761aa7-0144-aacd-c6bb-a3f6ff0bb5d6', '1969-04-23', '', '999-38-8272', 'S99970938', 'X58924567X', 'Mrs.', 'Caridad510', 'Montes106', '', 'Olivo261', 'M', 'white', 'hispanic', 'F', 'Portsmouth  Saint John Parish  DM', '809 Cole Station Apt 50', 'Randolph', 'Massachusetts', 'Norfolk County', 2368, 42.20626513553726, -71.06463542164956, 1187775.7, 8055.249999999998)\n",
            "('70b43d3b-b0b5-1ffa-8e48-7a6c011cb5cb', '2002-11-20', '', '999-53-2883', 'S99971963', '', '', 'Susann104', 'Murray856', '', '', '', 'white', 'nonhispanic', 'F', 'Wellesley  Massachusetts  US', '186 Cassin Gate', 'Tewksbury', 'Massachusetts', 'Middlesex County', '', 42.633981426213666, -71.2560608880989, 414355.27, 2877.2299999999996)\n",
            "('70b9a690-ce31-9c3b-83bc-ee83dfa89040', '1959-11-28', '', '999-18-9193', 'S99956436', 'X30441069X', 'Mr.', 'Leif534', 'Kovacek682', '', '', 'M', 'white', 'nonhispanic', 'M', 'Groton  Massachusetts  US', '729 Gaylord Bay', 'Tewksbury', 'Massachusetts', 'Middlesex County', '', 42.61389704089025, -71.19689019463925, 17901.99, 0)\n",
            "('da8bdc12-f30b-1bff-b7be-13498a2cfabe', '1995-01-17', '', '999-89-3786', 'S99974657', 'X78681029X', 'Ms.', 'Cassondra930', 'Bogisich202', '', '', '', 'white', 'nonhispanic', 'F', 'Cambridge  Massachusetts  US', '718 Schiller Course Unit 17', 'Springfield', 'Massachusetts', 'Hampden County', 1104, 42.1725418154899, -72.60282297963853, 593891.79, 4846.98)\n",
            "('c8e93b35-560b-a4dc-12c2-beb0a3133fc2', '2005-09-30', '', '999-69-4839', '', '', '', 'Fabian647', 'Ziemann98', '', '', '', 'white', 'nonhispanic', 'M', 'Waltham  Massachusetts  US', '404 Thompson Underpass Unit 33', 'Quincy', 'Massachusetts', 'Norfolk County', 2186, 42.28430401141299, -70.97298178137414, 346779.5, 3001.43)\n",
            "('4c4c7f22-01a1-c505-4b84-daf056c5a4c7', '1971-04-12', '', '999-99-7841', 'S99923128', 'X36353051X', 'Mr.', 'Fletcher87', 'Yost751', '', '', 'M', 'white', 'nonhispanic', 'M', 'Braintree  Massachusetts  US', '894 Goldner Bay Apt 50', 'Marblehead', 'Massachusetts', 'Essex County', 1945, 42.485335018471105, -70.86421789193936, 1017727.82, 2643.04)\n",
            "('8ba5469f-0e7d-8f3a-2c26-e5996ffcaa90', '1982-02-26', '', '999-46-2108', 'S99968332', 'X58597258X', 'Mrs.', 'Richelle340', 'Deckow585', '', 'DuBuque211', 'M', 'white', 'nonhispanic', 'F', 'Boston  Massachusetts  US', '941 Jakubowski Bypass Unit 25', 'Leominster', 'Massachusetts', 'Worcester County', 1453, 42.56532894634234, -71.78755768540731, 86744.53, 4115.339999999999)\n",
            "('7d71e31c-2191-afb0-8541-0b23ba60423e', '2020-04-29', '', '999-88-9352', '', '', '', 'Bennie663', 'Gleichner915', '', '', '', 'white', 'nonhispanic', 'M', 'Woburn  Massachusetts  US', '1015 Jacobs Knoll Suite 87', 'Natick', 'Massachusetts', 'Middlesex County', '', 42.29231811501473, -71.37904408207862, 15400, 516.64)\n",
            "('76b34f45-0c3d-ec87-660a-4bd358b30068', '2010-03-31', '', '999-10-6679', '', '', '', 'Otis335', 'Adams676', '', '', '', 'white', 'nonhispanic', 'M', 'Taunton  Massachusetts  US', '941 Reichel Throughway Unit 72', 'Randolph', 'Massachusetts', 'Norfolk County', '', 42.21097878865266, -71.05275373791979, 230856.54, 2509.2999999999997)\n",
            "('46cdc565-e220-98df-17b2-f9080c8d7f43', '1972-07-08', '', '999-74-5376', 'S99962535', 'X30911692X', 'Ms.', 'Joeann663', 'Ryan260', '', '', 'S', 'white', 'nonhispanic', 'F', 'Lancaster  Massachusetts  US', '988 Ullrich Passage Unit 28', 'Westborough', 'Massachusetts', 'Worcester County', 1581, 42.30066362036251, -71.65920275918901, 1128294.59, 9873.47)\n",
            "('560a4b1a-5d16-3a8d-144a-e5f36f801a4e', '1976-09-28', '', '999-67-2680', 'S99998345', 'X26504668X', 'Mrs.', 'Lael572', 'Rutherford999', '', 'Lubowitz58', 'M', 'white', 'nonhispanic', 'F', 'Raynham  Massachusetts  US', '916 Hermann Walk', 'Westford', 'Massachusetts', 'Middlesex County', '', 42.58791159383013, -71.44384174937028, 841139.86, 15865.999999999998)\n",
            "('2ea55f1c-a18b-ae18-0e8c-c57cf8ecf7db', '1974-06-20', '', '999-46-4925', 'S99950279', 'X69126658X', 'Mrs.', 'Rosa195', 'Camarillo982', '', 'Esquibel766', 'M', 'white', 'hispanic', 'F', 'Santo Domingo  National District  DO', '605 Boehm Trace', 'Hanover', 'Massachusetts', 'Plymouth County', '', 42.1660697381409, -70.81030210307424, 966198.31, 7331.909999999999)\n",
            "('6f74fd66-9dbd-b126-0c0f-55b798c2a014', '2002-11-27', '', '999-75-5123', 'S99927674', '', '', 'Wilma646', 'Johnston597', '', '', '', 'white', 'nonhispanic', 'F', 'Springfield  Massachusetts  US', '1076 Shields Hollow Unit 60', 'Needham', 'Massachusetts', 'Norfolk County', 2494, 42.282073816499086, -71.28048311840229, 369255.94, 2576.48)\n",
            "('1f6021bb-af44-0c89-581b-398d7563fbaf', '2002-12-07', '', '999-71-3738', 'S99970428', '', '', 'Virgil85', 'Wuckert783', '', '', '', 'white', 'nonhispanic', 'M', 'Randolph  Massachusetts  US', '857 Hammes Vale Apt 71', 'Leicester', 'Massachusetts', 'Worcester County', '', 42.19522453954839, -71.87861881384126, 55808.12, 3116.3199999999997)\n",
            "('5c4b7faa-d763-184e-79e8-68740cf5eb45', '1977-04-12', '2002-06-12', '999-50-8272', 'S99927138', 'X53700898X', 'Mr.', 'Reynaldo722', 'Considine820', '', '', '', 'white', 'nonhispanic', 'M', 'Springfield  Massachusetts  US', '210 Walker Mission Suite 93', 'Marshfield', 'Massachusetts', 'Plymouth County', '', 42.11922258606013, -70.68439672041158, 520199.57, 1720.6)\n",
            "('78164a52-51dd-920e-68f5-d569834ce3fc', '1999-07-18', '', '999-58-5872', 'S99936343', 'X49300159X', 'Mr.', 'Clayton230', 'Lowe577', '', '', '', 'white', 'nonhispanic', 'M', 'Malden  Massachusetts  US', '646 Gulgowski Highlands Suite 22', 'Watertown', 'Massachusetts', 'Middlesex County', 2472, 42.4017691811823, -71.18313111685734, 439150.56, 2563.96)\n",
            "('d5abba4d-3ed6-7ade-ab44-bbda132e6366', '2013-09-27', '', '999-93-1260', '', '', '', 'Neva514', 'Effertz744', '', '', '', 'white', 'nonhispanic', 'F', 'Tisbury  Massachusetts  US', '313 Hauck Landing', 'Cambridge', 'Massachusetts', 'Middlesex County', 2472, 42.41162855029036, -71.05091688756382, 172233.16, 2143.21)\n",
            "('a7910f38-b9fa-0e0b-dfd7-1299f957a88e', '1926-11-20', '2020-03-16', '999-25-7242', 'S99910836', 'X7717955X', 'Mr.', 'Hernán834', 'Soto31', '', '', 'M', 'black', 'hispanic', 'M', 'Santiago de los Caballeros  Santiago  DO', '719 Klein Meadow Apt 65', 'Westfield', 'Massachusetts', 'Hampden County', 1086, 42.17494818093496, -72.75649860829651, 1581496.7, 13071.929999999998)\n",
            "('d202e4b1-e80e-3045-1c41-d54aa3cd12c6', '1963-10-20', '', '999-37-4228', 'S99947695', 'X11000939X', 'Mrs.', 'Jeanett771', 'Reilly981', '', 'Becker968', 'M', 'white', 'nonhispanic', 'F', 'Bedford  Massachusetts  US', '1080 Denesik Estate Suite 81', 'Cambridge', 'Massachusetts', 'Middlesex County', 2139, 42.4123390312646, -71.07172547299076, 1225539.23, 11618.319999999998)\n",
            "('186f9a68-3952-629f-ed41-99cad7be4981', '1960-12-28', '2013-07-18', '999-46-8289', 'S99994283', 'X37114438X', 'Mrs.', 'Carolina179', 'Alcántar600', '', 'Madrigal893', 'M', 'black', 'hispanic', 'F', 'Juarez  Chihuahua  MX', '433 Gaylord Key Apt 26', 'Sturbridge', 'Massachusetts', 'Worcester County', 1507, 42.129883900316074, -72.07492012225103, 1161802.89, 8820.589999999998)\n",
            "('3bba2d79-59f0-7464-c2c5-76583577492c', '1983-02-20', '', '999-17-7282', 'S99969281', 'X3212028X', 'Mrs.', 'Joanne343', 'Lemke654', '', 'Blanda868', 'M', 'white', 'nonhispanic', 'F', 'Chelmsford  Massachusetts  US', '545 Schulist Avenue', 'Bellingham', 'Massachusetts', 'Norfolk County', '', 42.03004876137714, -71.43532113520634, 121806.27, 10149.579999999998)\n",
            "('fb6e6891-2515-b709-0435-c5fb14cf247a', '1977-04-12', '', '999-82-1585', 'S99926776', 'X19688157X', 'Mr.', 'Ezequiel972', 'McLaughlin530', '', '', 'M', 'white', 'nonhispanic', 'M', 'Weston  Massachusetts  US', '570 Lind Route', 'Marshfield', 'Massachusetts', 'Plymouth County', '', 42.14813537244365, -70.66566720767457, 1072585.06, 6742.5599999999995)\n",
            "('f6d82318-d684-06a2-bf94-193e0865177e', '1955-04-05', '', '999-57-5516', 'S99955031', 'X78690809X', 'Mr.', 'Cole117', 'Hickle134', '', '', 'M', 'black', 'nonhispanic', 'M', 'Rockland  Massachusetts  US', '772 Lowe Loaf', 'Boston', 'Massachusetts', 'Suffolk County', '', 42.3831266790262, -71.01384766879742, 1723300.31, 4903.8)\n",
            "('856aa613-c31e-71e1-69a7-a6ad5a4e67e7', '1963-07-23', '', '999-28-3580', 'S99933742', 'X44868378X', 'Ms.', 'Luanne915', 'Gusikowski974', '', '', 'S', 'white', 'nonhispanic', 'F', 'Lawrence  Massachusetts  US', '178 Russel Loaf Suite 66', 'Amherst', 'Massachusetts', 'Hampshire County', '', 42.33885185389055, -72.54978169961049, 1441497.73, 6974.539999999999)\n",
            "('2fa0fa6a-93b2-ffda-76fd-a693ed58d530', '1960-12-28', '', '999-47-5980', 'S99924274', 'X34074726X', 'Mrs.', 'Laura391', 'Iglesias873', '', 'Pacheco179', 'M', 'black', 'hispanic', 'F', 'Buenos Aires  Ciudad de Buenos Aires  AR', '112 Nikolaus Neck Suite 46', 'Sturbridge', 'Massachusetts', 'Worcester County', '', 42.136430577473995, -72.07669163088669, 1208687.58, 13256.169999999998)\n",
            "('3500ece5-51f6-fe8f-a5ad-48f9e4b7b4ef', '1955-06-08', '', '999-42-1967', 'S99971142', 'X46852498X', 'Mrs.', 'Bernadine674', 'Borer986', '', 'Bosco882', 'M', 'white', 'nonhispanic', 'F', 'Springfield  Massachusetts  US', '716 Stanton Common Suite 55', 'Longmeadow', 'Massachusetts', 'Hampden County', '', 42.08157443788249, -72.59983661217379, 1452726.53, 11718.989999999998)\n",
            "('eeaabfbc-181f-4c93-5bb8-bb755f3dea22', '1926-11-20', '2006-09-07', '999-51-6025', 'S99926277', 'X15793423X', 'Mr.', 'Hernán834', 'Rolón954', '', '', 'M', 'black', 'hispanic', 'M', 'Roseau  Saint George  DM', '463 Hamill Esplanade', 'Westfield', 'Massachusetts', 'Hampden County', 1085, 42.159777569195406, -72.72205531414207, 1537455.92, 7999.19)\n",
            "('c2a794a8-fc1f-99d4-7237-109581cbfab9', '2010-01-15', '', '999-11-2410', '', '', '', 'Maxima831', 'Pfeffer420', '', '', '', 'white', 'hispanic', 'F', 'Arlington  Massachusetts  US', '342 Schmidt Road', 'Newton', 'Massachusetts', 'Middlesex County', 2458, 42.3306385850335, -71.22293104913633, 223595.99, 2552.3599999999997)\n",
            "('a1ced3c5-e4df-dafa-bf2a-1ad138793db1', '1942-07-07', '', '999-78-2639', 'S99922698', 'X43984885X', 'Mrs.', 'Sharita792', 'Rodriguez71', '', 'Steuber698', 'M', 'white', 'nonhispanic', 'F', 'Auburn  Massachusetts  US', \"908 O'Kon Estate\", 'Weymouth', 'Massachusetts', 'Norfolk County', 2189, 42.243083220125214, -70.92753837693742, 1420330.67, 13383.589999999998)\n",
            "('79c9d7c9-578f-ff33-2176-02a1ec666e31', '1951-07-10', '', '999-16-6074', 'S99982626', 'X69496438X', 'Mr.', 'Merlin721', 'Harber290', '', '', 'M', 'white', 'nonhispanic', 'M', 'Georgetown  Massachusetts  US', '494 Bergnaum Dale Suite 70', 'Dartmouth', 'Massachusetts', 'Bristol County', '', 41.61225481802068, -70.92789019936883, 1504026.37, 5320.889999999999)\n",
            "('aeef215e-355c-3a75-c426-79a05de8e497', '1985-10-23', '', '999-46-2169', 'S99952005', 'X87287066X', 'Mrs.', 'Roxane435', 'Kreiger457', '', 'Becker968', 'M', 'white', 'nonhispanic', 'F', 'Lynn  Massachusetts  US', '182 Lehner Club Unit 48', 'Malden', 'Massachusetts', 'Middlesex County', 2148, 42.47322401480251, -71.13688402101384, 37784.46, 1455.58)\n",
            "('38fc9aca-8d52-b721-2ba8-9f4d223a5c9d', '2014-11-15', '', '999-40-7182', '', '', '', 'Georgette866', 'Jacobson885', '', '', '', 'white', 'nonhispanic', 'F', 'Worcester  Massachusetts  US', '764 Erdman Track', 'Auburn', 'Massachusetts', 'Worcester County', '', 42.21785215664746, -71.84203753785987, 146991.56, 2128.1699999999996)\n",
            "('97af679a-3817-64b5-4fb2-6eca5352a297', '1926-11-20', '1985-04-20', '999-95-6651', 'S99969178', 'X31256170X', 'Mr.', 'José3', 'Ojeda263', '', '', 'S', 'black', 'hispanic', 'M', 'Port-au-Prince  Haiti  HT', '755 Graham Heights', 'Westfield', 'Massachusetts', 'Hampden County', 1086, 42.09960656067272, -72.7315426520877, 1199214.72, 2605.48)\n",
            "('c4609356-a514-b11b-9613-75afa50e0043', '1988-03-01', '', '999-94-4533', 'S99983516', 'X8603575X', 'Mr.', 'Thad495', 'Ziemann98', '', '', 'M', 'white', 'nonhispanic', 'M', 'Springfield  Massachusetts  US', '698 Labadie Path', 'Lynn', 'Massachusetts', 'Essex County', 1907, 42.45057428927217, -70.96598365043295, 711061.82, 2392.91)\n",
            "('a6f3a4d2-48e9-a21a-1851-14ec61dbef61', '1953-06-02', '2002-11-12', '999-81-5650', 'S99997696', 'X45367444X', 'Mr.', 'Elbert916', 'McClure239', '', '', 'M', 'white', 'nonhispanic', 'M', 'Weymouth  Massachusetts  US', '121 Moore Lodge', 'Medford', 'Massachusetts', 'Middlesex County', 2155, 42.38260113836653, -71.14026301765001, 1075035.48, 3035.68)\n",
            "('0800c938-9e7b-c39f-81ae-2052d227c4e6', '1984-06-08', '', '999-16-3401', 'S99975691', 'X40517811X', 'Ms.', 'Zoila41', 'Will178', '', '', 'S', 'white', 'nonhispanic', 'F', 'Marlborough  Massachusetts  US', '455 Jast Knoll', 'Deerfield', 'Massachusetts', 'Franklin County', 1342, 42.53710474664599, -72.61487706770784, 117110.19, 10263.06)\n",
            "('c3dbb32c-95d2-9208-af16-e3ecdbbcc856', '1959-10-05', '', '999-96-7679', 'S99972184', 'X74871078X', 'Mr.', 'German382', 'Casper496', '', '', 'M', 'white', 'nonhispanic', 'M', 'Needham  Massachusetts  US', '958 Brekke Park', 'Lynn', 'Massachusetts', 'Essex County', 1904, 42.52096219364178, -70.9461930787092, 59180.52, 0)\n",
            "('4a3659c2-363d-3137-a89f-b40439bc4bdb', '1953-09-06', '', '999-48-7740', 'S99956013', 'X61519643X', 'Mr.', 'Millard193', 'Padberg411', '', '', 'M', 'white', 'nonhispanic', 'M', 'Northfield  Massachusetts  US', '508 Hagenes Promenade Unit 40', 'Hudson', 'Massachusetts', 'Middlesex County', '', 42.38508645192108, -71.56511252240111, 1583498.83, 7195.949999999999)\n",
            "('813b0cd1-ff24-8c8e-1d2a-e79782ffc608', '1959-04-18', '', '999-28-5197', 'S99945287', 'X89528140X', 'Mrs.', 'Teisha100', 'Smith67', '', 'Kautzer186', 'M', 'white', 'nonhispanic', 'F', 'Boston  Massachusetts  US', '538 Jaskolski Glen Apt 17', 'Chelsea', 'Massachusetts', 'Suffolk County', 2150, 42.422875950594026, -71.01643051414072, 1428556.2, 9679.71)\n",
            "('d0a0236e-9249-c723-deba-e0a0cad6f78f', '1926-11-20', '1990-04-03', '999-44-4883', 'S99933868', 'X82302418X', 'Mr.', 'Hugo693', 'Anguiano812', '', '', 'M', 'black', 'hispanic', 'M', 'Salisbury  Saint Joseph Parish  DM', '547 Crooks Lane', 'Westfield', 'Massachusetts', 'Hampden County', 1085, 42.09803876669731, -72.82025772645784, 40442.58, 383.25)\n",
            "('1630dfeb-87c5-7a9b-9ba2-6b32f8b4b19b', '2018-04-04', '', '999-81-8962', '', '', '', 'Gertie348', 'Pacocha935', '', '', '', 'white', 'nonhispanic', 'F', 'Chelsea  Massachusetts  US', '515 McKenzie Way Suite 97', 'Douglas', 'Massachusetts', 'Worcester County', '', 42.09290858675568, -71.80097414231211, 60870, 1299.09)\n",
            "('bc629d89-329b-7fa7-647e-bc1cb0947280', '1938-10-31', '2003-05-26', '999-79-2976', 'S99969865', 'X46518706X', 'Mr.', 'Gil594', 'Bradtke547', '', '', 'M', 'white', 'nonhispanic', 'M', 'Greenfield  Massachusetts  US', '799 Bednar Way', 'Somerville', 'Massachusetts', 'Middlesex County', 2143, 42.43285037918998, -71.10521540669286, 1635586.31, 4448.53)\n",
            "('bc6dfb69-c205-8611-8b34-1a168edbb113', '2002-03-25', '', '999-59-6843', 'S99965962', '', 'Ms.', 'Jayme42', 'Armstrong51', '', '', '', 'white', 'nonhispanic', 'F', 'Boston  Massachusetts  US', '564 Nienow Lock', 'Somerville', 'Massachusetts', 'Middlesex County', 2144, 42.46367922962802, -71.14318508364761, 427060.69, 2788.1099999999997)\n",
            "('ff5c1f25-14da-ba3a-51bb-c5735d406ea8', '1989-08-30', '', '999-83-9102', 'S99915358', 'X52706547X', 'Mrs.', 'Tyesha844', 'Monahan736', '', 'Murazik203', 'M', 'white', 'nonhispanic', 'F', 'Haverhill  Massachusetts  US', '843 Hauck Parade', 'Boston', 'Massachusetts', 'Suffolk County', 2125, 42.373113012621275, -71.03738037564884, 619900.35, 5433.629999999999)\n",
            "('baf6d0ef-acd7-a68b-53cd-1056ac2aa496', '1953-06-02', '', '999-88-9438', 'S99946118', 'X80144171X', 'Mr.', 'Benedict104', 'Cormier289', '', '', 'M', 'white', 'nonhispanic', 'M', 'Brockton  Massachusetts  US', '626 Gleason Street', 'Medford', 'Massachusetts', 'Middlesex County', 2155, 42.43528720018037, -71.14400824326944, 1649732.53, 5718.549999999999)\n",
            "('4495ee09-3e6f-8aff-c219-5f47696e0a4f', '2013-06-14', '', '999-48-5373', '', '', '', 'Roland928', 'Hauck852', '', '', '', 'white', 'nonhispanic', 'M', 'Peabody  Massachusetts  US', '163 Jaskolski Ranch', 'Scituate', 'Massachusetts', 'Plymouth County', '', 42.206475622022346, -70.76409541978276, 189180, 2119.0299999999997)\n",
            "('f0bbd61c-a1d7-5931-7254-65068def87fb', '1980-07-07', '', '999-45-6512', 'S99999421', 'X37737517X', 'Mrs.', 'Penelope500', 'Lind531', '', 'Schmeler639', 'M', 'white', 'nonhispanic', 'F', 'Taunton  Massachusetts  US', '384 Johnson Way', 'Boston', 'Massachusetts', 'Suffolk County', 2152, 42.30399195240642, -71.06348400149477, 959940.11, 9013.339999999998)\n",
            "('58b8615a-4221-90f6-ac0d-f01eb33f410c', '1938-10-31', '1996-05-04', '999-87-4776', 'S99929324', 'X14949304X', 'Mr.', 'Man114', 'Kub800', '', '', 'M', 'white', 'nonhispanic', 'M', 'Palmer  Massachusetts  US', '328 Will Ferry Unit 53', 'Somerville', 'Massachusetts', 'Middlesex County', 2144, 42.3765948663725, -71.14973602324858, 1455757.65, 4101.13)\n",
            "('6bcbe20b-8553-249c-fc8a-dd01b59583c6', '1941-03-17', '', '999-23-9623', 'S99984812', 'X7959145X', 'Mr.', 'Miguel Ángel46', 'Lugo857', '', '', 'M', 'asian', 'hispanic', 'M', 'Caguas  Puerto Rico  PR', '176 Dooley Heights Apt 67', 'Norwood', 'Massachusetts', 'Norfolk County', 2090, 42.22674680618009, -71.15212719359403, 1535710.02, 6303.039999999999)\n",
            "('9b0998b1-a8b9-ad9f-8a5f-75740ff5cacf', '2003-05-21', '', '999-77-6018', 'S99970858', '', '', 'Oneida64', 'Huels583', '', '', '', 'white', 'nonhispanic', 'F', 'Cambridge  Massachusetts  US', '396 Harris Trailer Suite 46', 'Methuen', 'Massachusetts', 'Essex County', 1841, 42.680802818349456, -71.17421304541179, 386610.01, 6165.909999999999)\n",
            "('9373897f-00d6-1331-eaf5-483306f8936c', '1926-11-20', '1996-11-02', '999-23-2966', 'S99980447', 'X12939818X', 'Mr.', 'Ramón841', 'Corrales691', '', '', 'S', 'black', 'hispanic', 'M', 'La Paz  Baja California  MX', '118 Thompson Highlands Unit 82', 'Westfield', 'Massachusetts', 'Hampden County', '', 42.16927201429562, -72.80422124772083, 58601.7, 9152.7)\n",
            "('d97ec704-0ab4-5495-4f76-7752d73a32e3', '1989-10-11', '', '999-21-4165', 'S99925729', 'X67568791X', 'Mrs.', 'Melani888', 'Runolfsdottir785', '', 'Zieme486', 'M', 'white', 'nonhispanic', 'F', 'Billerica  Massachusetts  US', '378 Mosciski Trafficway Unit 82', 'Lowell', 'Massachusetts', 'Middlesex County', '', 42.64087961039155, -71.330859047367, 598686.2, 6914.189999999999)\n",
            "('ee80af29-8ae8-632b-2297-e06ba68c22f1', '1998-07-10', '', '999-75-4120', 'S99999403', 'X2611334X', 'Mr.', 'Harris789', 'Langworth352', '', '', '', 'white', 'nonhispanic', 'M', 'Dalton  Massachusetts  US', '506 Gulgowski Passage', 'Boston', 'Massachusetts', 'Suffolk County', 2110, 42.295508118856226, -71.17191147112622, 540039.52, 3076.37)\n",
            "('9b49e027-32e1-1eea-1fc6-bdd4084c34d7', '1951-06-12', '', '999-68-6978', 'S99923289', 'X48811508X', 'Mrs.', 'Mathilde204', 'Green467', '', 'Macejkovic424', 'M', 'white', 'nonhispanic', 'F', 'Worcester  Massachusetts  US', '882 Jacobs Crossroad', 'Methuen', 'Massachusetts', 'Essex County', 1844, 42.748970382788634, -71.21370165023296, 237492.79, 20731.999999999996)\n",
            "('6fe84bee-bcca-2ffb-8a8c-8fdf80520347', '2002-02-07', '', '999-73-5278', 'S99971291', '', 'Ms.', 'Mika226', 'Schmitt836', '', '', '', 'white', 'nonhispanic', 'F', 'Lawrence  Massachusetts  US', '594 Bogisich Trace Apt 28', 'Needham', 'Massachusetts', 'Norfolk County', 2494, 42.31088857392977, -71.26644635472867, 454381.56, 2974.74)\n",
            "('696d08dc-a557-6b2d-9932-fa140b473f14', '1999-07-24', '', '999-72-4542', 'S99956110', 'X53123094X', 'Ms.', 'Shin962', 'Dickinson688', '', '', '', 'white', 'nonhispanic', 'F', 'Somerville  Massachusetts  US', '732 Little Vale', 'Agawam', 'Massachusetts', 'Hampden County', 1030, 42.01685553644385, -72.63068476105379, 494972.17, 3498.0499999999997)\n",
            "('aca73a78-6796-0a49-8f7a-b5c849b18aae', '1999-12-21', '', '999-28-3705', 'S99946396', 'X73931018X', 'Mr.', 'Alphonso102', 'Jenkins714', '', '', '', 'white', 'nonhispanic', 'M', 'West Springfield  Massachusetts  US', '418 Koelpin Bypass Unit 25', 'Brookline', 'Massachusetts', 'Norfolk County', 2445, 42.3349865312463, -71.10716219398091, 435709.16, 5513.559999999999)\n",
            "('7074074a-0091-2ba4-0a1d-de530c3001b4', '1916-04-18', '2003-05-16', '999-68-7528', 'S99934676', 'X41465979X', 'Mr.', 'Bradley693', 'Barton704', '', '', 'M', 'white', 'nonhispanic', 'M', 'Fall River  Massachusetts  US', '887 Grant Loaf Unit 7', 'Tewksbury', 'Massachusetts', 'Middlesex County', '', 42.574698651581635, -71.25883443745413, 1405909.05, 9095.71)\n",
            "('6b27bbd3-4a1b-3be2-8380-f7811eeaebd5', '2019-10-29', '', '999-33-2593', '', '', '', 'Alease857', 'Runte676', '', '', '', 'white', 'nonhispanic', 'F', 'Fitchburg  Massachusetts  US', '223 Mosciski Viaduct Apt 12', 'North Attleborough', 'Massachusetts', 'Bristol County', '', 41.92604587182059, -71.37773074800498, 28776.61, 774.9599999999999)\n",
            "('677ee8de-537e-bd1f-4d2e-f4c8ccd36b9a', '1956-01-19', '', '999-67-8966', 'S99926015', 'X35210607X', 'Mr.', 'Renaldo199', 'Brekke496', '', '', 'M', 'white', 'hispanic', 'M', 'Framingham  Massachusetts  US', '958 Dooley Lane', 'West Springfield', 'Massachusetts', 'Hampden County', 1089, 42.12685550167139, -72.61064926951116, 1719127.55, 4829.639999999999)\n",
            "('236c4037-f0b7-2252-1380-387f4e41b8ca', '1938-10-31', '2018-09-18', '999-66-5932', 'S99991603', 'X75628835X', 'Mr.', 'Rory188', 'Howe413', '', '', 'M', 'white', 'nonhispanic', 'M', 'Boston  Massachusetts  US', '355 Daniel Arcade Unit 30', 'Somerville', 'Massachusetts', 'Middlesex County', 2140, 42.381867013194444, -71.13527615353436, 1771927.73, 11436.029999999999)\n",
            "('11a3505f-1ebc-19e4-70c1-992344144c8d', '1960-05-07', '', '999-76-5656', 'S99978400', 'X77650132X', 'Mr.', 'Osvaldo336', 'Jerde200', '', '', 'M', 'white', 'nonhispanic', 'M', 'Dudley  Massachusetts  US', '804 Simonis Run Unit 60', 'Halifax', 'Massachusetts', 'Plymouth County', '', 41.983330601434815, -70.82645100334366, 34256.95, 324.9599999999999)\n",
            "('dee77b45-0105-b2fc-9c32-2ec09dd1dfc2', '1966-07-06', '', '999-55-2363', 'S99972976', 'X59203647X', 'Mr.', 'Shane235', 'White193', '', '', 'M', 'white', 'nonhispanic', 'M', 'Bedford  Massachusetts  US', '784 Pacocha Ranch', 'Springfield', 'Massachusetts', 'Hampden County', 1105, 42.09822179017505, -72.5148626990708, 1309971.22, 3968.7)\n",
            "('b08f0028-7ce8-9e2b-bad4-3cc890645c1e', '2004-05-28', '', '999-70-4257', 'S99986653', '', '', 'Laurence43', 'Corwin846', '', '', '', 'white', 'nonhispanic', 'M', 'Townsend  Massachusetts  US', '674 Koch Rue Suite 75', 'Haverhill', 'Massachusetts', 'Essex County', 1835, 42.763326348026446, -71.15804377463877, 338112.58, 2785.64)\n",
            "('bd97b462-eb94-6cec-fa4a-121589256aec', '1950-08-06', '', '999-68-5900', 'S99939690', 'X59056331X', 'Mrs.', 'Vi771', \"O'Reilly797\", '', 'Brown30', 'M', 'asian', 'nonhispanic', 'F', 'Springfield  Massachusetts  US', '166 Goldner View', 'Fall River', 'Massachusetts', 'Bristol County', 2747, 41.567566922295185, -71.07607875975596, 47162.27, 2536.4299999999994)\n",
            "('39a43c21-52d8-9561-e7de-6b72cbb0fb2c', '1978-02-09', '', '999-24-1039', 'S99922071', 'X28492719X', 'Mrs.', 'Lecia978', 'Rippin620', '', 'Hackett68', 'M', 'black', 'nonhispanic', 'F', 'Westport  Massachusetts  US', '504 Hand Green', 'Northbridge', 'Massachusetts', 'Worcester County', '', 42.13742410879515, -71.63043172948588, 136951.77, 10737.63)\n",
            "('2b21bea2-4817-4fd9-1018-68825d380a60', '1926-11-20', '1995-01-27', '999-76-7919', 'S99936510', 'X26233633X', 'Mr.', 'Timoteo39', 'Esquivel546', '', '', 'S', 'black', 'hispanic', 'M', 'Port-au-Prince  Haiti  HT', '974 Stark Annex Apt 97', 'Westfield', 'Massachusetts', 'Hampden County', 1085, 42.17397244657841, -72.7363025808091, 1567217.72, 271612.2200000001)\n",
            "('2f400d40-b91d-cc3e-75c3-5d590f88c75b', '2014-04-06', '', '999-83-7374', '', '', '', 'Isreal8', 'Cremin516', '', '', '', 'white', 'nonhispanic', 'M', 'Attleboro  Massachusetts  US', '874 Friesen Vista', 'Swampscott', 'Massachusetts', 'Essex County', '', 42.434880033277715, -70.89278599492528, 160476.39, 2076.4999999999995)\n",
            "('7ab86dc8-19e7-7948-78a7-b3c7d93fabf7', '1916-04-18', '1978-06-15', '999-79-7040', 'S99943146', 'X33534754X', 'Mr.', 'Teodoro374', 'Reynolds644', '', '', 'S', 'white', 'nonhispanic', 'M', 'Winthrop  Massachusetts  US', '160 Crooks Estate', 'Tewksbury', 'Massachusetts', 'Middlesex County', '', 42.57482768636605, -71.19259423188429, 1657347.98, 3782.16)\n",
            "('195a2e84-257b-d34b-92ee-9bbfa0e7d0fd', '1972-09-28', '', '999-54-8346', 'S99953033', 'X41312291X', 'Mr.', 'Marcelo725', 'Fritsch593', '', '', 'M', 'white', 'nonhispanic', 'M', 'Quincy  Massachusetts  US', '543 Rolfson View', 'Southwick', 'Massachusetts', 'Hampden County', '', 42.03366934393068, -72.81718187799378, 988825.68, 2723.04)\n",
            "('2dd0c959-3691-85c6-61bf-c92e9aaf6ded', '1988-06-24', '', '999-49-4831', 'S99989780', 'X63206033X', 'Mr.', 'Daryl568', 'Roob72', '', '', 'M', 'white', 'nonhispanic', 'M', 'Boston  Massachusetts  US', '142 Jones Run Suite 40', 'East Bridgewater', 'Massachusetts', 'Plymouth County', '', 42.01939794469986, -70.97175476967413, 781257.2, 2977.9599999999996)\n",
            "('5d1b69d9-3a56-6807-da71-aea7b1f11a66', '1990-06-05', '', '999-97-2276', 'S99977392', 'X21653821X', 'Mr.', 'Sung603', 'Gaylord332', '', '', 'M', 'black', 'nonhispanic', 'M', 'Abington  Massachusetts  US', '609 Hagenes Dale Apt 18', 'Burlington', 'Massachusetts', 'Middlesex County', 1803, 42.52414555252174, -71.17443499127214, 735069.75, 3042.9599999999996)\n",
            "('f1834408-d0b2-f49f-7fc0-bc4d122f9d2a', '1993-02-08', '', '999-43-7045', 'S99957832', 'X87718942X', 'Mrs.', 'Dreama246', 'Satterfield305', '', 'Schulist381', 'M', 'white', 'nonhispanic', 'F', 'Amesbury  Massachusetts  US', '699 Schinner Highlands Apt 80', 'Boston', 'Massachusetts', 'Suffolk County', 2135, 42.308249245515015, -71.17022894769755, 17617.25, 0)\n",
            "('ca726f14-e63d-5152-1f8b-5493395f0853', '1954-04-22', '', '999-84-1816', 'S99984053', 'X59509180X', 'Mr.', 'Lazaro919', 'Sporer811', '', '', 'S', 'white', 'nonhispanic', 'M', 'Newton  Massachusetts  US', '1003 Goldner Ranch', 'Quincy', 'Massachusetts', 'Norfolk County', 2170, 42.20862477569788, -71.03598354400438, 209962.33, 5807.54)\n",
            "('467332d9-3d21-6112-9093-3dd89353dee2', '1996-09-07', '', '999-46-5453', 'S99925998', 'X17075103X', 'Mr.', 'Jamie386', \"O'Hara248\", '', '', '', 'white', 'nonhispanic', 'M', 'East Longmeadow  Massachusetts  US', '987 Senger Key Apt 29', 'Sudbury', 'Massachusetts', 'Middlesex County', '', 42.34638509293633, -71.41764619202885, 526352.28, 2533.8399999999997)\n",
            "('03dff77a-26d7-5b22-cb39-8724f3e0970e', '1938-10-31', '', '999-12-9033', 'S99991380', 'X73574190X', 'Mr.', 'Johnson679', 'Harber290', '', '', 'M', 'white', 'nonhispanic', 'M', 'Chicopee  Massachusetts  US', '965 Mitchell Heights Unit 91', 'Somerville', 'Massachusetts', 'Middlesex County', 2140, 42.386266536966126, -71.13111764509748, 1731872.04, 19308.75)\n",
            "('8adc312b-6cf7-4caa-30ea-95dad0e5fdb2', '1992-04-03', '', '999-81-1144', 'S99986757', 'X73928421X', 'Mrs.', 'Ai120', 'Zieme486', '', 'Ward668', 'M', 'white', 'nonhispanic', 'F', 'Clinton  Massachusetts  US', '972 Little Orchard', 'Beverly', 'Massachusetts', 'Essex County', '', 42.55323742096031, -70.88135163802065, 676598.27, 6044.439999999999)\n",
            "('d8a7e2a3-9177-00ba-89ef-cac8012fb87c', '1926-11-20', '2013-07-15', '999-59-3249', 'S99915866', 'X6900603X', 'Mr.', 'Bernardo699', 'Guillen740', '', '', 'M', 'black', 'hispanic', 'M', 'Havana  Havana  CU', '698 Schimmel Promenade', 'Westfield', 'Massachusetts', 'Hampden County', '', 42.14915288366213, -72.75033224802529, 104540.77, 4740.639999999999)\n",
            "('ec2a5243-294f-3842-b2f8-dca626ffe9b4', '1988-01-26', '', '999-76-5878', 'S99968182', 'X31624582X', 'Mrs.', 'Shoshana283', 'Abshire638', '', 'Schumm995', 'M', 'black', 'nonhispanic', 'F', 'Cambridge  Massachusetts  US', '706 Stiedemann Vale Apt 48', 'Boston', 'Massachusetts', 'Suffolk County', 2199, 42.32479553223284, -71.04779238796561, 774888.4, 5998.419999999999)\n",
            "('dd7c2a48-f606-63d2-1ef8-dedcca486a28', '1987-05-26', '', '999-26-6327', 'S99998539', 'X8280350X', 'Mr.', 'Boris111', 'Renner328', '', '', 'M', 'white', 'nonhispanic', 'M', 'Boston  Massachusetts  US', '1075 Mayer Bridge', 'Springfield', 'Massachusetts', 'Hampden County', 1108, 42.1834782400166, -72.64956605375413, 687247.92, 3461.3599999999997)\n",
            "('44c88701-f328-4304-9196-126a95bd71f5', '1981-06-09', '', '999-91-8131', 'S99912536', 'X56752723X', 'Mr.', 'Ezequiel972', 'Steuber698', 'JD', '', 'M', 'white', 'nonhispanic', 'M', 'Acton  Massachusetts  US', '147 Halvorson Divide', 'Grafton', 'Massachusetts', 'Worcester County', '', 42.22658652899067, -71.72126899961027, 1000589.56, 5239.26)\n",
            "('a9d59f93-9196-3e40-88c3-a51f8c80802c', '1931-10-02', '1983-07-01', '999-66-5936', 'S99966106', 'X88264282X', 'Mrs.', 'Nina110', 'Greenfelder433', '', 'Ruecker817', 'M', 'white', 'nonhispanic', 'F', 'Methuen  Massachusetts  US', '712 Hessel Route', 'Plymouth', 'Massachusetts', 'Plymouth County', '', 41.91623882163037, -70.62744237028568, 166799.03, 11364.529999999999)\n",
            "('c9f943ea-fb15-c89c-83c4-602879625263', '1978-11-05', '', '999-68-9781', 'S99910255', 'X29387289X', 'Mrs.', 'Danita413', 'Schaefer657', '', 'Jacobs452', 'M', 'white', 'nonhispanic', 'F', 'Randolph  Massachusetts  US', '265 Daniel Fork', 'Quincy', 'Massachusetts', 'Norfolk County', 2170, 42.21410361547135, -70.96777377543314, 1006003.83, 6622.23)\n",
            "('5c7422f0-ec15-dac1-c1d8-1532461dc4e5', '1916-04-18', '2020-03-25', '999-20-7416', 'S99991097', 'X73303532X', 'Mr.', 'Shon148', 'Thompson596', '', '', 'S', 'white', 'nonhispanic', 'M', 'Framingham  Massachusetts  US', '378 Brakus Track Suite 61', 'Tewksbury', 'Massachusetts', 'Middlesex County', '', 42.66136346266381, -71.26403501329288, 1693527.03, 13531.599999999999)\n",
            "('8044b4f6-0bed-b724-240f-70b3aa162ffe', '1926-11-20', '2005-05-15', '999-54-9232', 'S99987221', 'X45535915X', 'Mr.', 'Marco Antonio298', 'Bravo546', '', '', 'M', 'black', 'hispanic', 'M', 'San Salvador  El Salvador  SV', '365 Weber Pathway Suite 30', 'Westfield', 'Massachusetts', 'Hampden County', 1086, 42.14459234302627, -72.77670342196352, 81166.1, 3441.46)\n",
            "('18d8d80b-85dd-7bb5-f54d-253de650d462', '1931-10-02', '2014-09-29', '999-31-2643', 'S99948585', 'X60084496X', 'Mrs.', 'Tran115', 'Orn563', '', 'Mohr916', 'M', 'white', 'nonhispanic', 'F', 'Lowell  Massachusetts  US', '818 Brakus Center', 'Plymouth', 'Massachusetts', 'Plymouth County', '', 41.86238264960771, -70.67185981846872, 320859.67000000004, 17399.329999999998)\n",
            "('ca3b78c1-c165-9be8-024f-bff5bf3d4219', '1926-11-20', '2001-11-13', '999-14-6008', 'S99952578', 'X58027359X', 'Mr.', 'Arturo47', 'Carrion142', '', '', 'S', 'black', 'hispanic', 'M', 'Roseau  Saint George  DM', '232 Beahan Grove Suite 1', 'Westfield', 'Massachusetts', 'Hampden County', 1086, 42.17183889333553, -72.81757762175397, 1445575.56, 7245.929999999999)\n",
            "('cc0dd11c-18c7-791c-bbfc-0087d2d24ef4', '1931-10-02', '2013-04-30', '999-26-2368', 'S99918860', 'X88432216X', 'Mrs.', 'Eleanore671', 'Beahan375', '', 'Mante251', 'M', 'white', 'nonhispanic', 'F', 'Grafton  Massachusetts  US', '771 Altenwerth Trafficway Apt 21', 'Plymouth', 'Massachusetts', 'Plymouth County', '', 41.87344237170819, -70.64865821104992, 315606.1, 20591.579999999998)\n",
            "('fcda0346-ab0a-87e6-42b9-f53c11b06136', '1926-11-20', '', '999-13-3271', 'S99960250', 'X87275152X', 'Mr.', 'Felipe97', 'Arellano2', '', '', 'M', 'black', 'hispanic', 'M', 'Juarez  Chihuahua  MX', '286 Kunde Route Apt 49', 'Westfield', 'Massachusetts', 'Hampden County', 1086, 42.149872310642536, -72.75025393343599, 1501571.44, 7611.279999999999)\n",
            "('f3dce929-fb2f-c380-3deb-6517f999d87e', '1931-10-02', '', '999-68-1387', 'S99968390', 'X49697981X', 'Mrs.', 'Lelah386', 'Moore224', '', 'Blanda868', 'M', 'white', 'nonhispanic', 'F', 'Marlborough  Massachusetts  US', '996 Balistreri Throughway Suite 89', 'Plymouth', 'Massachusetts', 'Plymouth County', '', 41.882299384589835, -70.67273644871467, 354735.82, 11916.609999999999)\n",
            "('ca41ecaf-d09c-3d51-687d-79eed54fc0b1', '1916-04-18', '1999-08-20', '999-50-4174', 'S99935685', 'X32345788X', 'Mr.', 'Jamie386', 'Hansen121', '', '', 'M', 'white', 'nonhispanic', 'M', 'Haverhill  Massachusetts  US', '593 Buckridge Common Suite 14', 'Tewksbury', 'Massachusetts', 'Middlesex County', '', 42.617986799325976, -71.25713628226568, 1534819.29, 187370.78999999998)\n",
            "('98cf0772-2fa3-99a5-8dc9-f1c41d42e176', '1916-04-18', '2004-06-01', '999-28-9773', 'S99918490', 'X5803829X', 'Mr.', 'Armand155', 'Hahn503', '', '', 'M', 'white', 'nonhispanic', 'M', 'Boston  Massachusetts  US', '492 Turcotte Ramp Apt 69', 'Tewksbury', 'Massachusetts', 'Middlesex County', '', 42.630488892582164, -71.22959001525635, 1798350.25, 24524.86)\n",
            "('188a7bbe-086c-d094-0656-3cf54dc36baf', '1916-04-18', '2008-10-28', '999-43-3014', 'S99954545', 'X85963647X', 'Mr.', 'Jonathan639', 'Heidenreich818', '', '', 'M', 'white', 'nonhispanic', 'M', 'Boston  Massachusetts  US', '1030 Kuvalis Promenade', 'Tewksbury', 'Massachusetts', 'Middlesex County', '', 42.57578892971072, -71.24832009551322, 1864544.6700000002, 206648.8699999996)\n",
            "('a7c7c59d-a75c-2189-e1e1-38c87e3c0291', '1916-04-18', '2006-03-13', '999-27-8977', 'S99942918', 'X63341248X', 'Mr.', 'Simon598', 'Gerhold939', '', '', 'M', 'white', 'nonhispanic', 'M', 'Beverly  Massachusetts  US', '787 Schuster Loaf', 'Tewksbury', 'Massachusetts', 'Middlesex County', '', 42.613068203922374, -71.21186291998276, 1647406.68, 13502.4)\n",
            "('680124b8-53df-c1f2-f174-737dd9af33d9', '1916-04-18', '1999-10-12', '999-19-6309', 'S99966861', 'X82189506X', 'Mr.', 'Claude750', 'Lehner980', '', '', 'M', 'white', 'nonhispanic', 'M', 'Lowell  Massachusetts  US', '1051 Nienow Harbor Apt 7', 'Tewksbury', 'Massachusetts', 'Middlesex County', '', 42.616300424389784, -71.22013507091336, 1470172.77, 13145.16)\n",
            "('f0b88667-f14c-60a5-6e97-6e764267f5a1', '1916-04-18', '2005-02-25', '999-28-4718', 'S99937459', 'X44904111X', 'Mr.', 'Erick204', 'Grant908', '', '', 'M', 'white', 'nonhispanic', 'M', 'Avon  Massachusetts  US', '245 Hauck Overpass Apt 80', 'Tewksbury', 'Massachusetts', 'Middlesex County', '', 42.56949295828952, -71.22575606791881, 1485817.07, 15135.439999999999)\n",
            "('6c0f59da-0168-8436-1e2a-7f4ab6d01b01', '1916-04-18', '1983-05-10', '999-39-1658', 'S99974509', 'X62096679X', 'Mr.', 'Merle11', 'Stanton715', '', '', 'M', 'white', 'nonhispanic', 'M', 'Falmouth  Massachusetts  US', '162 Ondricka Pathway Suite 7', 'Tewksbury', 'Massachusetts', 'Middlesex County', '', 42.56694679130471, -71.1790508449716, 1652302.3, 5043.12)\n",
            "('1d2f25af-f252-4554-31e3-dc511c2c6977', '1916-04-18', '1977-01-18', '999-50-6150', 'S99977675', 'X83786479X', 'Mr.', 'Antoine384', 'Little434', '', '', 'M', 'white', 'nonhispanic', 'M', 'Dracut  Massachusetts  US', '174 Lind Byway Suite 26', 'Tewksbury', 'Massachusetts', 'Middlesex County', '', 42.57162111933675, -71.27720049950723, 1644606.96, 5042.88)\n",
            "('c0c6861c-2859-afb2-1da1-3f87ea8656c3', '1934-06-02', '1994-06-25', '999-24-2641', 'S99920048', 'X1003341X', 'Mr.', 'Olen518', 'Lemke654', '', '', 'M', 'white', 'nonhispanic', 'M', 'Boston  Massachusetts  US', '1006 Bashirian Approach Suite 1', 'Tewksbury', 'Massachusetts', 'Middlesex County', '', 42.62849029907083, -71.21094426008497, 1233391.59, 2605.48)\n",
            "('e1bcc5b5-e071-8376-4c51-5864d7b5de0e', '1934-06-02', '2005-05-28', '999-97-2572', 'S99972774', 'X60841290X', 'Mr.', 'Bernie827', 'Stiedemann542', '', '', 'M', 'white', 'nonhispanic', 'M', 'Worcester  Massachusetts  US', '419 Mraz Station Suite 61', 'Tewksbury', 'Massachusetts', 'Middlesex County', '', 42.65610230286541, -71.25097853399934, 1517914.45, 153086.68999999994)\n",
            "('55ae03c8-e2ac-eb28-7b69-4a15f5e38695', '1934-06-02', '2000-08-21', '999-13-8604', 'S99925035', 'X48975293X', 'Mr.', 'Brad867', 'Hoeger474', '', '', 'M', 'white', 'nonhispanic', 'M', 'Walpole  Massachusetts  US', '855 Klein Port', 'Tewksbury', 'Massachusetts', 'Middlesex County', '', 42.64052861430335, -71.2537592507063, 1648234.68, 5270.089999999999)\n",
            "('1ee00990-229a-7167-c099-eb224ffe7a07', '1934-06-02', '2010-11-29', '999-14-3405', 'S99952582', 'X18103572X', 'Mr.', 'Sheldon401', 'Mitchell808', '', '', 'M', 'white', 'nonhispanic', 'M', 'Melrose  Massachusetts  US', '382 Schinner Mews Apt 89', 'Tewksbury', 'Massachusetts', 'Middlesex County', '', 42.58473307694765, -71.26692399564952, 1602401.81, 7138.0199999999995)\n",
            "('7a8603fd-f2a6-5830-4bdb-280ff6f6940f', '1934-06-02', '2014-02-15', '999-83-5083', 'S99996027', 'X77192989X', 'Mr.', 'Wilmer32', 'Ernser583', '', '', 'S', 'white', 'nonhispanic', 'M', 'Revere  Massachusetts  US', '1006 Reichert Pathway Apt 17', 'Tewksbury', 'Massachusetts', 'Middlesex County', '', 42.62590200353163, -71.25404600784228, 1690610.45, 8914.47)\n",
            "('31698580-0ef9-5510-bea6-0c7ae94b0efc', '1934-06-02', '', '999-38-8769', 'S99946814', 'X80857970X', 'Mr.', 'Jim478', 'Schroeder447', '', '', 'M', 'white', 'nonhispanic', 'M', 'Stoughton  Massachusetts  US', '577 Balistreri Path', 'Tewksbury', 'Massachusetts', 'Middlesex County', '', 42.56696853096399, -71.18255917928259, 1556194.15, 21760.989999999998)\n"
          ],
          "name": "stdout"
        }
      ]
    },
    {
      "cell_type": "code",
      "metadata": {
        "colab": {
          "base_uri": "https://localhost:8080/",
          "height": 236
        },
        "id": "xlEyG1zbQq4m",
        "outputId": "b42c5e85-520e-4f32-8354-06efa75d6ecf"
      },
      "source": [
        "import pandas as pd\r\n",
        "\r\n",
        "#patient_pseudo = pd.read_sql_query(\"select id PATIENT, 'P'||random() ID from patients;\", src_conn)\r\n",
        "#patient_pseudo.head(10)\r\n",
        "\r\n",
        "patient = pd.read_sql_query(\"select * from patients;\", src_conn)\r\n",
        "patient\r\n",
        "\r\n",
        "medication = pd.read_sql_query(\"select * from medications;\", src_conn)\r\n",
        "medication\r\n",
        "\r\n"
      ],
      "execution_count": 2,
      "outputs": [
        {
          "output_type": "error",
          "ename": "NameError",
          "evalue": "ignored",
          "traceback": [
            "\u001b[0;31m---------------------------------------------------------------------------\u001b[0m",
            "\u001b[0;31mNameError\u001b[0m                                 Traceback (most recent call last)",
            "\u001b[0;32m<ipython-input-2-6ac87abd5a83>\u001b[0m in \u001b[0;36m<module>\u001b[0;34m()\u001b[0m\n\u001b[1;32m      4\u001b[0m \u001b[0;31m#patient_pseudo.head(10)\u001b[0m\u001b[0;34m\u001b[0m\u001b[0;34m\u001b[0m\u001b[0;34m\u001b[0m\u001b[0m\n\u001b[1;32m      5\u001b[0m \u001b[0;34m\u001b[0m\u001b[0m\n\u001b[0;32m----> 6\u001b[0;31m \u001b[0mpatient\u001b[0m \u001b[0;34m=\u001b[0m \u001b[0mpd\u001b[0m\u001b[0;34m.\u001b[0m\u001b[0mread_sql_query\u001b[0m\u001b[0;34m(\u001b[0m\u001b[0;34m\"select * from patients;\"\u001b[0m\u001b[0;34m,\u001b[0m \u001b[0msrc_conn\u001b[0m\u001b[0;34m)\u001b[0m\u001b[0;34m\u001b[0m\u001b[0;34m\u001b[0m\u001b[0m\n\u001b[0m\u001b[1;32m      7\u001b[0m \u001b[0mpatient\u001b[0m\u001b[0;34m\u001b[0m\u001b[0;34m\u001b[0m\u001b[0m\n\u001b[1;32m      8\u001b[0m \u001b[0;34m\u001b[0m\u001b[0m\n",
            "\u001b[0;31mNameError\u001b[0m: name 'src_conn' is not defined"
          ]
        }
      ]
    },
    {
      "cell_type": "code",
      "metadata": {
        "colab": {
          "base_uri": "https://localhost:8080/",
          "height": 950
        },
        "id": "qADv6NaiSZfe",
        "outputId": "e52f7d63-d955-4097-deb1-f839275330f5"
      },
      "source": [
        "import pandas as pd\r\n",
        "#patientmedication = pd.read_sql_query(\"select p.id, m.* from medications m join patients p on p.id = m.PATIENT\", src_conn)\r\n",
        "#patientmedication \r\n",
        "patientmedication = pd.read_sql_query(\"select distinct p.PATIENT, m.* from medications m join observations p on p.PATIENT = m.PATIENT\",src_conn)\r\n",
        "patientmedication \r\n",
        "#medication = pd.read_sql_query(\"select * from observations;\", src_conn)\r\n",
        "#medication"
      ],
      "execution_count": 12,
      "outputs": [
        {
          "output_type": "execute_result",
          "data": {
            "text/html": [
              "<div>\n",
              "<style scoped>\n",
              "    .dataframe tbody tr th:only-of-type {\n",
              "        vertical-align: middle;\n",
              "    }\n",
              "\n",
              "    .dataframe tbody tr th {\n",
              "        vertical-align: top;\n",
              "    }\n",
              "\n",
              "    .dataframe thead th {\n",
              "        text-align: right;\n",
              "    }\n",
              "</style>\n",
              "<table border=\"1\" class=\"dataframe\">\n",
              "  <thead>\n",
              "    <tr style=\"text-align: right;\">\n",
              "      <th></th>\n",
              "      <th>PATIENT</th>\n",
              "      <th>START</th>\n",
              "      <th>STOP</th>\n",
              "      <th>PATIENT</th>\n",
              "      <th>PAYER</th>\n",
              "      <th>ENCOUNTER</th>\n",
              "      <th>CODE</th>\n",
              "      <th>DESCRIPTION</th>\n",
              "      <th>BASE_COST</th>\n",
              "      <th>PAYER_COVERAGE</th>\n",
              "      <th>DISPENSES</th>\n",
              "      <th>TOTALCOST</th>\n",
              "      <th>REASONCODE</th>\n",
              "      <th>REASONDESCRIPTION</th>\n",
              "    </tr>\n",
              "  </thead>\n",
              "  <tbody>\n",
              "    <tr>\n",
              "      <th>0</th>\n",
              "      <td>3575b903-dbd0-1d55-6146-9e8aa4ed52a5</td>\n",
              "      <td>1946-01-11T11:40:19Z</td>\n",
              "      <td></td>\n",
              "      <td>3575b903-dbd0-1d55-6146-9e8aa4ed52a5</td>\n",
              "      <td>5059a55e-5d6e-34d1-b6cb-d83d16e57bcf</td>\n",
              "      <td>6e0279b7-c477-a2c6-e75c-a911f03a264c</td>\n",
              "      <td>1049630</td>\n",
              "      <td>diphenhydrAMINE Hydrochloride 25 MG Oral Tablet</td>\n",
              "      <td>8.80</td>\n",
              "      <td>0.0</td>\n",
              "      <td>911</td>\n",
              "      <td>8016.80</td>\n",
              "      <td></td>\n",
              "      <td></td>\n",
              "    </tr>\n",
              "    <tr>\n",
              "      <th>1</th>\n",
              "      <td>aff157cc-b6d3-412b-ccbe-bfd5fac1c2d5</td>\n",
              "      <td>2010-01-20T00:48:18Z</td>\n",
              "      <td>2010-10-20T00:48:18Z</td>\n",
              "      <td>aff157cc-b6d3-412b-ccbe-bfd5fac1c2d5</td>\n",
              "      <td>047f6ec3-6215-35eb-9608-f9dda363a44c</td>\n",
              "      <td>be256df1-75cb-cbf7-0109-e0e1ae2c6348</td>\n",
              "      <td>314076</td>\n",
              "      <td>lisinopril 10 MG Oral Tablet</td>\n",
              "      <td>0.02</td>\n",
              "      <td>0.0</td>\n",
              "      <td>273</td>\n",
              "      <td>5.46</td>\n",
              "      <td>59621000</td>\n",
              "      <td>Hypertension</td>\n",
              "    </tr>\n",
              "    <tr>\n",
              "      <th>2</th>\n",
              "      <td>aff157cc-b6d3-412b-ccbe-bfd5fac1c2d5</td>\n",
              "      <td>2010-02-19T00:48:18Z</td>\n",
              "      <td>2010-10-20T00:48:18Z</td>\n",
              "      <td>aff157cc-b6d3-412b-ccbe-bfd5fac1c2d5</td>\n",
              "      <td>047f6ec3-6215-35eb-9608-f9dda363a44c</td>\n",
              "      <td>78f3c03e-8264-77b9-dc70-16fd00193b8d</td>\n",
              "      <td>310798</td>\n",
              "      <td>Hydrochlorothiazide 25 MG Oral Tablet</td>\n",
              "      <td>0.01</td>\n",
              "      <td>0.0</td>\n",
              "      <td>8</td>\n",
              "      <td>0.08</td>\n",
              "      <td>59621000</td>\n",
              "      <td>Hypertension</td>\n",
              "    </tr>\n",
              "    <tr>\n",
              "      <th>3</th>\n",
              "      <td>aff157cc-b6d3-412b-ccbe-bfd5fac1c2d5</td>\n",
              "      <td>2010-04-20T00:48:18Z</td>\n",
              "      <td>2010-10-20T00:48:18Z</td>\n",
              "      <td>aff157cc-b6d3-412b-ccbe-bfd5fac1c2d5</td>\n",
              "      <td>047f6ec3-6215-35eb-9608-f9dda363a44c</td>\n",
              "      <td>6f149158-46da-7ad4-040d-fd9786e66508</td>\n",
              "      <td>308136</td>\n",
              "      <td>amLODIPine 2.5 MG Oral Tablet</td>\n",
              "      <td>0.02</td>\n",
              "      <td>0.0</td>\n",
              "      <td>183</td>\n",
              "      <td>3.66</td>\n",
              "      <td>59621000</td>\n",
              "      <td>Hypertension</td>\n",
              "    </tr>\n",
              "    <tr>\n",
              "      <th>4</th>\n",
              "      <td>aff157cc-b6d3-412b-ccbe-bfd5fac1c2d5</td>\n",
              "      <td>2010-10-20T00:48:18Z</td>\n",
              "      <td>2010-12-15T00:48:18Z</td>\n",
              "      <td>aff157cc-b6d3-412b-ccbe-bfd5fac1c2d5</td>\n",
              "      <td>b1c428d6-4f07-31e0-90f0-68ffa6ff8c76</td>\n",
              "      <td>583a6d5e-4bda-34f7-06a5-97051581836f</td>\n",
              "      <td>310798</td>\n",
              "      <td>Hydrochlorothiazide 25 MG Oral Tablet</td>\n",
              "      <td>0.01</td>\n",
              "      <td>0.0</td>\n",
              "      <td>1</td>\n",
              "      <td>0.01</td>\n",
              "      <td>59621000</td>\n",
              "      <td>Hypertension</td>\n",
              "    </tr>\n",
              "    <tr>\n",
              "      <th>...</th>\n",
              "      <td>...</td>\n",
              "      <td>...</td>\n",
              "      <td>...</td>\n",
              "      <td>...</td>\n",
              "      <td>...</td>\n",
              "      <td>...</td>\n",
              "      <td>...</td>\n",
              "      <td>...</td>\n",
              "      <td>...</td>\n",
              "      <td>...</td>\n",
              "      <td>...</td>\n",
              "      <td>...</td>\n",
              "      <td>...</td>\n",
              "      <td>...</td>\n",
              "    </tr>\n",
              "    <tr>\n",
              "      <th>8531</th>\n",
              "      <td>31698580-0ef9-5510-bea6-0c7ae94b0efc</td>\n",
              "      <td>2019-08-10T06:01:53Z</td>\n",
              "      <td>2020-08-15T06:01:53Z</td>\n",
              "      <td>31698580-0ef9-5510-bea6-0c7ae94b0efc</td>\n",
              "      <td>7caa7254-5050-3b5e-9eae-bd5ea30e809c</td>\n",
              "      <td>e2d9b3e3-f813-d8cd-8c5e-2af37e32a208</td>\n",
              "      <td>310798</td>\n",
              "      <td>Hydrochlorothiazide 25 MG Oral Tablet</td>\n",
              "      <td>0.01</td>\n",
              "      <td>0.0</td>\n",
              "      <td>12</td>\n",
              "      <td>0.12</td>\n",
              "      <td>59621000</td>\n",
              "      <td>Hypertension</td>\n",
              "    </tr>\n",
              "    <tr>\n",
              "      <th>8532</th>\n",
              "      <td>31698580-0ef9-5510-bea6-0c7ae94b0efc</td>\n",
              "      <td>2019-08-10T06:01:53Z</td>\n",
              "      <td>2020-08-15T06:01:53Z</td>\n",
              "      <td>31698580-0ef9-5510-bea6-0c7ae94b0efc</td>\n",
              "      <td>7caa7254-5050-3b5e-9eae-bd5ea30e809c</td>\n",
              "      <td>e2d9b3e3-f813-d8cd-8c5e-2af37e32a208</td>\n",
              "      <td>314076</td>\n",
              "      <td>lisinopril 10 MG Oral Tablet</td>\n",
              "      <td>0.02</td>\n",
              "      <td>0.0</td>\n",
              "      <td>371</td>\n",
              "      <td>7.42</td>\n",
              "      <td>59621000</td>\n",
              "      <td>Hypertension</td>\n",
              "    </tr>\n",
              "    <tr>\n",
              "      <th>8533</th>\n",
              "      <td>31698580-0ef9-5510-bea6-0c7ae94b0efc</td>\n",
              "      <td>2020-04-14T06:01:53Z</td>\n",
              "      <td></td>\n",
              "      <td>31698580-0ef9-5510-bea6-0c7ae94b0efc</td>\n",
              "      <td>7caa7254-5050-3b5e-9eae-bd5ea30e809c</td>\n",
              "      <td>ab302aad-54f8-d9c8-1f34-3f156a65dd5e</td>\n",
              "      <td>314231</td>\n",
              "      <td>Simvastatin 10 MG Oral Tablet</td>\n",
              "      <td>0.02</td>\n",
              "      <td>0.0</td>\n",
              "      <td>12</td>\n",
              "      <td>0.24</td>\n",
              "      <td>55822004</td>\n",
              "      <td>Hyperlipidemia</td>\n",
              "    </tr>\n",
              "    <tr>\n",
              "      <th>8534</th>\n",
              "      <td>31698580-0ef9-5510-bea6-0c7ae94b0efc</td>\n",
              "      <td>2020-08-15T06:01:53Z</td>\n",
              "      <td></td>\n",
              "      <td>31698580-0ef9-5510-bea6-0c7ae94b0efc</td>\n",
              "      <td>7caa7254-5050-3b5e-9eae-bd5ea30e809c</td>\n",
              "      <td>234e6b4c-ffcb-ac84-2070-3c77653dd4f8</td>\n",
              "      <td>310798</td>\n",
              "      <td>Hydrochlorothiazide 25 MG Oral Tablet</td>\n",
              "      <td>0.01</td>\n",
              "      <td>0.0</td>\n",
              "      <td>2</td>\n",
              "      <td>0.02</td>\n",
              "      <td>59621000</td>\n",
              "      <td>Hypertension</td>\n",
              "    </tr>\n",
              "    <tr>\n",
              "      <th>8535</th>\n",
              "      <td>31698580-0ef9-5510-bea6-0c7ae94b0efc</td>\n",
              "      <td>2020-08-15T06:01:53Z</td>\n",
              "      <td></td>\n",
              "      <td>31698580-0ef9-5510-bea6-0c7ae94b0efc</td>\n",
              "      <td>7caa7254-5050-3b5e-9eae-bd5ea30e809c</td>\n",
              "      <td>234e6b4c-ffcb-ac84-2070-3c77653dd4f8</td>\n",
              "      <td>314076</td>\n",
              "      <td>lisinopril 10 MG Oral Tablet</td>\n",
              "      <td>0.02</td>\n",
              "      <td>0.0</td>\n",
              "      <td>84</td>\n",
              "      <td>1.68</td>\n",
              "      <td>59621000</td>\n",
              "      <td>Hypertension</td>\n",
              "    </tr>\n",
              "  </tbody>\n",
              "</table>\n",
              "<p>8536 rows × 14 columns</p>\n",
              "</div>"
            ],
            "text/plain": [
              "                                   PATIENT  ... REASONDESCRIPTION\n",
              "0     3575b903-dbd0-1d55-6146-9e8aa4ed52a5  ...                  \n",
              "1     aff157cc-b6d3-412b-ccbe-bfd5fac1c2d5  ...      Hypertension\n",
              "2     aff157cc-b6d3-412b-ccbe-bfd5fac1c2d5  ...      Hypertension\n",
              "3     aff157cc-b6d3-412b-ccbe-bfd5fac1c2d5  ...      Hypertension\n",
              "4     aff157cc-b6d3-412b-ccbe-bfd5fac1c2d5  ...      Hypertension\n",
              "...                                    ...  ...               ...\n",
              "8531  31698580-0ef9-5510-bea6-0c7ae94b0efc  ...      Hypertension\n",
              "8532  31698580-0ef9-5510-bea6-0c7ae94b0efc  ...      Hypertension\n",
              "8533  31698580-0ef9-5510-bea6-0c7ae94b0efc  ...    Hyperlipidemia\n",
              "8534  31698580-0ef9-5510-bea6-0c7ae94b0efc  ...      Hypertension\n",
              "8535  31698580-0ef9-5510-bea6-0c7ae94b0efc  ...      Hypertension\n",
              "\n",
              "[8536 rows x 14 columns]"
            ]
          },
          "metadata": {
            "tags": []
          },
          "execution_count": 12
        }
      ]
    },
    {
      "cell_type": "markdown",
      "metadata": {
        "id": "ralFWHdBrIoh"
      },
      "source": [
        "### Copy a table from one database to another(create empty SQLite database)"
      ]
    },
    {
      "cell_type": "code",
      "metadata": {
        "id": "qWSiQGu4st9I"
      },
      "source": [
        ""
      ],
      "execution_count": null,
      "outputs": []
    },
    {
      "cell_type": "markdown",
      "metadata": {
        "id": "wlt_8kIrsuU_"
      },
      "source": [
        "### Transform ETL Job: Joint two table and write them into a new table"
      ]
    },
    {
      "cell_type": "code",
      "metadata": {
        "id": "sPdoKbvJs8ev"
      },
      "source": [
        ""
      ],
      "execution_count": null,
      "outputs": []
    },
    {
      "cell_type": "markdown",
      "metadata": {
        "id": "K73yqt5Ys80e"
      },
      "source": [
        "### Write ETL jobs for all Tables\n",
        "\n",
        "\n"
      ]
    },
    {
      "cell_type": "code",
      "metadata": {
        "id": "LL8-O5XwtGBn"
      },
      "source": [
        ""
      ],
      "execution_count": null,
      "outputs": []
    },
    {
      "cell_type": "markdown",
      "metadata": {
        "id": "h-XI6Ar5tGfM"
      },
      "source": [
        "### Write a Program that schedules the ETL jobs and execute them in order\n"
      ]
    },
    {
      "cell_type": "code",
      "metadata": {
        "id": "whuBX5dVthbM"
      },
      "source": [
        ""
      ],
      "execution_count": null,
      "outputs": []
    },
    {
      "cell_type": "code",
      "metadata": {
        "id": "gJ_UjLM8p6HJ"
      },
      "source": [
        ""
      ],
      "execution_count": null,
      "outputs": []
    }
  ]
}